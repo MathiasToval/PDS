{
 "cells": [
  {
   "cell_type": "code",
   "execution_count": 7,
   "metadata": {},
   "outputs": [],
   "source": [
    "import numpy as np\n",
    "import matplotlib.pyplot as plt\n",
    "from mpl_toolkits.axes_grid1.inset_locator import inset_axes, mark_inset\n",
    "from scipy.signal import correlate\n",
    "import pyroomacoustics as pra\n",
    "import soundfile as sf\n",
    "from IPython.display import Audio\n",
    "from scipy.fft import fft, ifft\n",
    "from scipy.signal import correlate\n",
    "import seaborn as sns\n",
    "import matplotlib.patches as mpatches\n",
    "\n",
    "\n",
    "import doascripts as doa\n",
    "import simscripts as sim\n",
    "import plotting as pt\n",
    "import measuring as meas"
   ]
  },
  {
   "cell_type": "markdown",
   "metadata": {},
   "source": [
    "# Generación de diccionarios"
   ]
  },
  {
   "cell_type": "markdown",
   "metadata": {},
   "source": [
    "Se define el diccionario base a partir del cual se ajustarán los parámetros pertenecientes a la simulación."
   ]
  },
  {
   "cell_type": "code",
   "execution_count": 8,
   "metadata": {},
   "outputs": [],
   "source": [
    "dicc_base = {\n",
    "    \"room_dim\": [5, 5, 5], \n",
    "    \"rt60\": 0.2,\n",
    "    \"mic_amount\": 4,\n",
    "    \"mic_start\": [1, 1, 2.5],\n",
    "    \"mic_dist\": 0.1,\n",
    "    \"source_pos\": [2.5, 2.5, 2.5],\n",
    "    \"fs\": 48000,\n",
    "    \"snr\" : 0}"
   ]
  },
  {
   "cell_type": "markdown",
   "metadata": {},
   "source": [
    "# Expansión de SNR"
   ]
  },
  {
   "cell_type": "code",
   "execution_count": 27,
   "metadata": {},
   "outputs": [
    {
     "data": {
      "text/plain": [
       "{'room_dim': [5, 5, 5],\n",
       " 'rt60': 0.2,\n",
       " 'mic_amount': 4,\n",
       " 'mic_start': [1, 1, 2.5],\n",
       " 'mic_dist': 0.1,\n",
       " 'source_pos': [2.5, 2.5, 2.5],\n",
       " 'fs': 48000,\n",
       " 'snr': [80.0,\n",
       "  78.571429,\n",
       "  77.142857,\n",
       "  75.714286,\n",
       "  74.285714,\n",
       "  72.857143,\n",
       "  71.428571,\n",
       "  70.0,\n",
       "  68.571429,\n",
       "  67.142857,\n",
       "  65.714286,\n",
       "  64.285714,\n",
       "  62.857143,\n",
       "  61.428571,\n",
       "  60.0,\n",
       "  58.571429,\n",
       "  57.142857,\n",
       "  55.714286,\n",
       "  54.285714,\n",
       "  52.857143,\n",
       "  51.428571,\n",
       "  50.0,\n",
       "  48.571429,\n",
       "  47.142857,\n",
       "  45.714286,\n",
       "  44.285714,\n",
       "  42.857143,\n",
       "  41.428571,\n",
       "  40.0,\n",
       "  38.571429,\n",
       "  37.142857,\n",
       "  35.714286,\n",
       "  34.285714,\n",
       "  32.857143,\n",
       "  31.428571,\n",
       "  30.0,\n",
       "  28.571429,\n",
       "  27.142857,\n",
       "  25.714286,\n",
       "  24.285714,\n",
       "  22.857143,\n",
       "  21.428571,\n",
       "  20.0,\n",
       "  18.571429,\n",
       "  17.142857,\n",
       "  15.714286,\n",
       "  14.285714,\n",
       "  12.857143,\n",
       "  11.428571,\n",
       "  10.0]}"
      ]
     },
     "execution_count": 27,
     "metadata": {},
     "output_type": "execute_result"
    }
   ],
   "source": [
    "sim.expand_param(dicc_base, \"snr\", [80, 10], n=50, filename = \"variacion_snr\")"
   ]
  },
  {
   "cell_type": "markdown",
   "metadata": {},
   "source": [
    "# Expansión de RT60"
   ]
  },
  {
   "cell_type": "code",
   "execution_count": 28,
   "metadata": {},
   "outputs": [
    {
     "data": {
      "text/plain": [
       "{'room_dim': [5, 5, 5],\n",
       " 'rt60': [0.2,\n",
       "  0.4,\n",
       "  0.6,\n",
       "  0.8,\n",
       "  1.0,\n",
       "  1.2,\n",
       "  1.4,\n",
       "  1.6,\n",
       "  1.8,\n",
       "  2.0,\n",
       "  2.2,\n",
       "  2.4,\n",
       "  2.6,\n",
       "  2.8,\n",
       "  3.0,\n",
       "  3.2,\n",
       "  3.4,\n",
       "  3.6,\n",
       "  3.8,\n",
       "  4.0,\n",
       "  4.2,\n",
       "  4.4,\n",
       "  4.6,\n",
       "  4.8,\n",
       "  5.0,\n",
       "  5.2,\n",
       "  5.4,\n",
       "  5.6,\n",
       "  5.8,\n",
       "  6.0,\n",
       "  6.2,\n",
       "  6.4,\n",
       "  6.6,\n",
       "  6.8,\n",
       "  7.0,\n",
       "  7.2,\n",
       "  7.4,\n",
       "  7.6,\n",
       "  7.8,\n",
       "  8.0,\n",
       "  8.2,\n",
       "  8.4,\n",
       "  8.6,\n",
       "  8.8,\n",
       "  9.0,\n",
       "  9.2,\n",
       "  9.4,\n",
       "  9.6,\n",
       "  9.8,\n",
       "  10.0],\n",
       " 'mic_amount': 4,\n",
       " 'mic_start': [1, 1, 2.5],\n",
       " 'mic_dist': 0.1,\n",
       " 'source_pos': [2.5, 2.5, 2.5],\n",
       " 'fs': 48000,\n",
       " 'snr': 0}"
      ]
     },
     "execution_count": 28,
     "metadata": {},
     "output_type": "execute_result"
    }
   ],
   "source": [
    "sim.expand_param(dicc_base, \"rt60\", 0.2, n=50, filename = \"variacion_rt60\")"
   ]
  },
  {
   "cell_type": "markdown",
   "metadata": {},
   "source": [
    "# Expansión de posición de micrófonos (eje x)"
   ]
  },
  {
   "cell_type": "code",
   "execution_count": 29,
   "metadata": {},
   "outputs": [
    {
     "data": {
      "text/plain": [
       "{'room_dim': [5, 5, 5],\n",
       " 'rt60': 0.2,\n",
       " 'mic_amount': 4,\n",
       " 'mic_start': [[0.0, 1.0, 2.5],\n",
       "  [0.093878, 1.0, 2.5],\n",
       "  [0.187755, 1.0, 2.5],\n",
       "  [0.281633, 1.0, 2.5],\n",
       "  [0.37551, 1.0, 2.5],\n",
       "  [0.469388, 1.0, 2.5],\n",
       "  [0.563265, 1.0, 2.5],\n",
       "  [0.657143, 1.0, 2.5],\n",
       "  [0.75102, 1.0, 2.5],\n",
       "  [0.844898, 1.0, 2.5],\n",
       "  [0.938776, 1.0, 2.5],\n",
       "  [1.032653, 1.0, 2.5],\n",
       "  [1.126531, 1.0, 2.5],\n",
       "  [1.220408, 1.0, 2.5],\n",
       "  [1.314286, 1.0, 2.5],\n",
       "  [1.408163, 1.0, 2.5],\n",
       "  [1.502041, 1.0, 2.5],\n",
       "  [1.595918, 1.0, 2.5],\n",
       "  [1.689796, 1.0, 2.5],\n",
       "  [1.783673, 1.0, 2.5],\n",
       "  [1.877551, 1.0, 2.5],\n",
       "  [1.971429, 1.0, 2.5],\n",
       "  [2.065306, 1.0, 2.5],\n",
       "  [2.159184, 1.0, 2.5],\n",
       "  [2.253061, 1.0, 2.5],\n",
       "  [2.346939, 1.0, 2.5],\n",
       "  [2.440816, 1.0, 2.5],\n",
       "  [2.534694, 1.0, 2.5],\n",
       "  [2.628571, 1.0, 2.5],\n",
       "  [2.722449, 1.0, 2.5],\n",
       "  [2.816327, 1.0, 2.5],\n",
       "  [2.910204, 1.0, 2.5],\n",
       "  [3.004082, 1.0, 2.5],\n",
       "  [3.097959, 1.0, 2.5],\n",
       "  [3.191837, 1.0, 2.5],\n",
       "  [3.285714, 1.0, 2.5],\n",
       "  [3.379592, 1.0, 2.5],\n",
       "  [3.473469, 1.0, 2.5],\n",
       "  [3.567347, 1.0, 2.5],\n",
       "  [3.661224, 1.0, 2.5],\n",
       "  [3.755102, 1.0, 2.5],\n",
       "  [3.84898, 1.0, 2.5],\n",
       "  [3.942857, 1.0, 2.5],\n",
       "  [4.036735, 1.0, 2.5],\n",
       "  [4.130612, 1.0, 2.5],\n",
       "  [4.22449, 1.0, 2.5],\n",
       "  [4.318367, 1.0, 2.5],\n",
       "  [4.412245, 1.0, 2.5],\n",
       "  [4.506122, 1.0, 2.5],\n",
       "  [4.6, 1.0, 2.5]],\n",
       " 'mic_dist': 0.1,\n",
       " 'source_pos': [2.5, 2.5, 2.5],\n",
       " 'fs': 48000,\n",
       " 'snr': 0}"
      ]
     },
     "execution_count": 29,
     "metadata": {},
     "output_type": "execute_result"
    }
   ],
   "source": [
    "sim.expand_param(dicc_base, \"mic_start\", ([0, 1, 2.5], [4.6, 1, 2.5]), n=50, filename = \"variacion_mic_pos\")"
   ]
  },
  {
   "cell_type": "markdown",
   "metadata": {},
   "source": [
    "# Expansión de cantidad de micrófonos"
   ]
  },
  {
   "cell_type": "code",
   "execution_count": 9,
   "metadata": {},
   "outputs": [
    {
     "data": {
      "text/plain": [
       "{'room_dim': [5, 5, 5],\n",
       " 'rt60': 0.2,\n",
       " 'mic_amount': [2.0,\n",
       "  3.0,\n",
       "  4.0,\n",
       "  5.0,\n",
       "  6.0,\n",
       "  7.0,\n",
       "  8.0,\n",
       "  9.0,\n",
       "  10.0,\n",
       "  11.0,\n",
       "  12.0,\n",
       "  13.0,\n",
       "  14.0,\n",
       "  15.0,\n",
       "  16.0,\n",
       "  17.0,\n",
       "  18.0,\n",
       "  19.0,\n",
       "  20.0,\n",
       "  21.0,\n",
       "  22.0,\n",
       "  23.0,\n",
       "  24.0,\n",
       "  25.0,\n",
       "  26.0,\n",
       "  27.0,\n",
       "  28.0,\n",
       "  29.0,\n",
       "  30.0,\n",
       "  31.0,\n",
       "  32.0,\n",
       "  33.0,\n",
       "  34.0,\n",
       "  35.0,\n",
       "  36.0,\n",
       "  37.0,\n",
       "  38.0,\n",
       "  39.0,\n",
       "  40.0],\n",
       " 'mic_start': [1, 1, 2.5],\n",
       " 'mic_dist': 0.1,\n",
       " 'source_pos': [2.5, 2.5, 2.5],\n",
       " 'fs': 48000,\n",
       " 'snr': 0}"
      ]
     },
     "execution_count": 9,
     "metadata": {},
     "output_type": "execute_result"
    }
   ],
   "source": [
    "sim.expand_param(dicc_base, \"mic_amount\", [2, 40], n=39, filename = \"variacion_mic_amount\")"
   ]
  },
  {
   "cell_type": "markdown",
   "metadata": {},
   "source": [
    "# Expansión distancia microfonos"
   ]
  },
  {
   "cell_type": "code",
   "execution_count": 3,
   "metadata": {},
   "outputs": [
    {
     "data": {
      "text/plain": [
       "{'room_dim': [5, 5, 5],\n",
       " 'rt60': 0.2,\n",
       " 'mic_amount': 4,\n",
       " 'mic_start': [1, 1, 2.5],\n",
       " 'mic_dist': [0.05,\n",
       "  0.052041,\n",
       "  0.054082,\n",
       "  0.056122,\n",
       "  0.058163,\n",
       "  0.060204,\n",
       "  0.062245,\n",
       "  0.064286,\n",
       "  0.066327,\n",
       "  0.068367,\n",
       "  0.070408,\n",
       "  0.072449,\n",
       "  0.07449,\n",
       "  0.076531,\n",
       "  0.078571,\n",
       "  0.080612,\n",
       "  0.082653,\n",
       "  0.084694,\n",
       "  0.086735,\n",
       "  0.088776,\n",
       "  0.090816,\n",
       "  0.092857,\n",
       "  0.094898,\n",
       "  0.096939,\n",
       "  0.09898,\n",
       "  0.10102,\n",
       "  0.103061,\n",
       "  0.105102,\n",
       "  0.107143,\n",
       "  0.109184,\n",
       "  0.111224,\n",
       "  0.113265,\n",
       "  0.115306,\n",
       "  0.117347,\n",
       "  0.119388,\n",
       "  0.121429,\n",
       "  0.123469,\n",
       "  0.12551,\n",
       "  0.127551,\n",
       "  0.129592,\n",
       "  0.131633,\n",
       "  0.133673,\n",
       "  0.135714,\n",
       "  0.137755,\n",
       "  0.139796,\n",
       "  0.141837,\n",
       "  0.143878,\n",
       "  0.145918,\n",
       "  0.147959,\n",
       "  0.15],\n",
       " 'source_pos': [2.5, 2.5, 2.5],\n",
       " 'fs': 48000,\n",
       " 'snr': 0}"
      ]
     },
     "execution_count": 3,
     "metadata": {},
     "output_type": "execute_result"
    }
   ],
   "source": [
    "sim.expand_param(dicc_base, \"mic_dist\", [0.05, 0.15], n=50, filename = \"variacion_distancia_mics\")"
   ]
  },
  {
   "cell_type": "markdown",
   "metadata": {},
   "source": [
    "# Expansión de elevación de fuente"
   ]
  },
  {
   "cell_type": "code",
   "execution_count": 32,
   "metadata": {},
   "outputs": [
    {
     "data": {
      "text/plain": [
       "{'room_dim': [5, 5, 5],\n",
       " 'rt60': 0.2,\n",
       " 'mic_amount': 4,\n",
       " 'mic_start': [1, 1, 2.5],\n",
       " 'mic_dist': 0.1,\n",
       " 'source_pos': [[2.5, 2.5, 0.0],\n",
       "  [2.5, 2.5, 0.102041],\n",
       "  [2.5, 2.5, 0.204082],\n",
       "  [2.5, 2.5, 0.306122],\n",
       "  [2.5, 2.5, 0.408163],\n",
       "  [2.5, 2.5, 0.510204],\n",
       "  [2.5, 2.5, 0.612245],\n",
       "  [2.5, 2.5, 0.714286],\n",
       "  [2.5, 2.5, 0.816327],\n",
       "  [2.5, 2.5, 0.918367],\n",
       "  [2.5, 2.5, 1.020408],\n",
       "  [2.5, 2.5, 1.122449],\n",
       "  [2.5, 2.5, 1.22449],\n",
       "  [2.5, 2.5, 1.326531],\n",
       "  [2.5, 2.5, 1.428571],\n",
       "  [2.5, 2.5, 1.530612],\n",
       "  [2.5, 2.5, 1.632653],\n",
       "  [2.5, 2.5, 1.734694],\n",
       "  [2.5, 2.5, 1.836735],\n",
       "  [2.5, 2.5, 1.938776],\n",
       "  [2.5, 2.5, 2.040816],\n",
       "  [2.5, 2.5, 2.142857],\n",
       "  [2.5, 2.5, 2.244898],\n",
       "  [2.5, 2.5, 2.346939],\n",
       "  [2.5, 2.5, 2.44898],\n",
       "  [2.5, 2.5, 2.55102],\n",
       "  [2.5, 2.5, 2.653061],\n",
       "  [2.5, 2.5, 2.755102],\n",
       "  [2.5, 2.5, 2.857143],\n",
       "  [2.5, 2.5, 2.959184],\n",
       "  [2.5, 2.5, 3.061224],\n",
       "  [2.5, 2.5, 3.163265],\n",
       "  [2.5, 2.5, 3.265306],\n",
       "  [2.5, 2.5, 3.367347],\n",
       "  [2.5, 2.5, 3.469388],\n",
       "  [2.5, 2.5, 3.571429],\n",
       "  [2.5, 2.5, 3.673469],\n",
       "  [2.5, 2.5, 3.77551],\n",
       "  [2.5, 2.5, 3.877551],\n",
       "  [2.5, 2.5, 3.979592],\n",
       "  [2.5, 2.5, 4.081633],\n",
       "  [2.5, 2.5, 4.183673],\n",
       "  [2.5, 2.5, 4.285714],\n",
       "  [2.5, 2.5, 4.387755],\n",
       "  [2.5, 2.5, 4.489796],\n",
       "  [2.5, 2.5, 4.591837],\n",
       "  [2.5, 2.5, 4.693878],\n",
       "  [2.5, 2.5, 4.795918],\n",
       "  [2.5, 2.5, 4.897959],\n",
       "  [2.5, 2.5, 5.0]],\n",
       " 'fs': 48000,\n",
       " 'snr': 0}"
      ]
     },
     "execution_count": 32,
     "metadata": {},
     "output_type": "execute_result"
    }
   ],
   "source": [
    "sim.expand_param(dicc_base, \"source_pos\", [[2.5, 2.5, 0] , [2.5, 2.5, 5]], n=50, filename = \"variacion_source_pos\")"
   ]
  },
  {
   "cell_type": "markdown",
   "metadata": {},
   "source": [
    "# Expansión de fs"
   ]
  },
  {
   "cell_type": "code",
   "execution_count": 33,
   "metadata": {},
   "outputs": [
    {
     "data": {
      "text/plain": [
       "{'room_dim': [5, 5, 5],\n",
       " 'rt60': 0.2,\n",
       " 'mic_amount': 4,\n",
       " 'mic_start': [1, 1, 2.5],\n",
       " 'mic_dist': 0.1,\n",
       " 'source_pos': [2.5, 2.5, 2.5],\n",
       " 'fs': [500.0,\n",
       "  4408.163265,\n",
       "  8316.326531,\n",
       "  12224.489796,\n",
       "  16132.653061,\n",
       "  20040.816327,\n",
       "  23948.979592,\n",
       "  27857.142857,\n",
       "  31765.306122,\n",
       "  35673.469388,\n",
       "  39581.632653,\n",
       "  43489.795918,\n",
       "  47397.959184,\n",
       "  51306.122449,\n",
       "  55214.285714,\n",
       "  59122.44898,\n",
       "  63030.612245,\n",
       "  66938.77551,\n",
       "  70846.938776,\n",
       "  74755.102041,\n",
       "  78663.265306,\n",
       "  82571.428571,\n",
       "  86479.591837,\n",
       "  90387.755102,\n",
       "  94295.918367,\n",
       "  98204.081633,\n",
       "  102112.244898,\n",
       "  106020.408163,\n",
       "  109928.571429,\n",
       "  113836.734694,\n",
       "  117744.897959,\n",
       "  121653.061224,\n",
       "  125561.22449,\n",
       "  129469.387755,\n",
       "  133377.55102,\n",
       "  137285.714286,\n",
       "  141193.877551,\n",
       "  145102.040816,\n",
       "  149010.204082,\n",
       "  152918.367347,\n",
       "  156826.530612,\n",
       "  160734.693878,\n",
       "  164642.857143,\n",
       "  168551.020408,\n",
       "  172459.183673,\n",
       "  176367.346939,\n",
       "  180275.510204,\n",
       "  184183.673469,\n",
       "  188091.836735,\n",
       "  192000.0],\n",
       " 'snr': 0}"
      ]
     },
     "execution_count": 33,
     "metadata": {},
     "output_type": "execute_result"
    }
   ],
   "source": [
    "sim.expand_param(dicc_base, \"fs\", [500, 192000], n=50, filename = \"variacion_fs\")"
   ]
  },
  {
   "cell_type": "code",
   "execution_count": 34,
   "metadata": {},
   "outputs": [],
   "source": [
    "#rt60, error_rt60 = doa.full_doa_pipeline(\"variacion_rt60.json\", \"Audios/imp.wav\", method=\"classicfft\", variable_param=\"rt60\")"
   ]
  },
  {
   "cell_type": "code",
   "execution_count": 11,
   "metadata": {},
   "outputs": [],
   "source": [
    "#pt.plot_signals((rt60, error_rt60, 1, \"Variación RT60\", \"b\", \"RT60\", None), grid=True)"
   ]
  },
  {
   "cell_type": "code",
   "execution_count": 12,
   "metadata": {},
   "outputs": [
    {
     "data": {
      "text/plain": [
       "'\\ndicc_base_fs = {\\n    \"room_dim\": [5, 5, 5], \\n    \"rt60\": 0.2,\\n    \"mic_amount\": 4,\\n    \"mic_start\": [1, 1, 1],\\n    \"mic_dist\": 0.1,\\n    \"source_pos\": [1, 2.5, 1],\\n    \"fs\": 2000}\\n\\nsim.expand_param(dicc_base_fs, \"fs\", 1000, n=150, filename = \"variacion_fs\")\\n'"
      ]
     },
     "execution_count": 12,
     "metadata": {},
     "output_type": "execute_result"
    }
   ],
   "source": [
    "\"\"\"\n",
    "dicc_base_fs = {\n",
    "    \"room_dim\": [5, 5, 5], \n",
    "    \"rt60\": 0.2,\n",
    "    \"mic_amount\": 4,\n",
    "    \"mic_start\": [1, 1, 1],\n",
    "    \"mic_dist\": 0.1,\n",
    "    \"source_pos\": [1, 2.5, 1],\n",
    "    \"fs\": 2000}\n",
    "\n",
    "sim.expand_param(dicc_base_fs, \"fs\", 1000, n=150, filename = \"variacion_fs\")\n",
    "\"\"\""
   ]
  },
  {
   "cell_type": "code",
   "execution_count": 13,
   "metadata": {},
   "outputs": [],
   "source": [
    "#fs, error_fs = doa.full_doa_pipeline(\"variación_fs.json\", \"Audios/imp.wav\", method=\"classicfft\", variable_param=\"fs\")"
   ]
  },
  {
   "cell_type": "code",
   "execution_count": 14,
   "metadata": {
    "scrolled": false
   },
   "outputs": [],
   "source": [
    "#pt.plot_signals((fs, error_fs, 1, \"Variación fs\", \"r\", \"fs\", None))"
   ]
  },
  {
   "cell_type": "markdown",
   "metadata": {},
   "source": [
    "# Box plots"
   ]
  },
  {
   "cell_type": "code",
   "execution_count": 19,
   "metadata": {},
   "outputs": [
    {
     "name": "stdout",
     "output_type": "stream",
     "text": [
      "Procesando: Impulso - classicfft\n",
      "Procesando: Impulso - phat\n",
      "Procesando: Impulso - scot\n",
      "Procesando: Impulso - roth\n",
      "Procesando: Impulso - ml\n",
      "Procesando: Guitarra - classicfft\n",
      "Procesando: Guitarra - phat\n",
      "Procesando: Guitarra - scot\n"
     ]
    },
    {
     "ename": "KeyboardInterrupt",
     "evalue": "",
     "output_type": "error",
     "traceback": [
      "\u001b[0;31m---------------------------------------------------------------------------\u001b[0m",
      "\u001b[0;31mKeyboardInterrupt\u001b[0m                         Traceback (most recent call last)",
      "Cell \u001b[0;32mIn[19], line 21\u001b[0m\n\u001b[1;32m     19\u001b[0m \u001b[38;5;28mprint\u001b[39m(\u001b[38;5;124mf\u001b[39m\u001b[38;5;124m\"\u001b[39m\u001b[38;5;124mProcesando: \u001b[39m\u001b[38;5;132;01m{\u001b[39;00msig_label\u001b[38;5;132;01m}\u001b[39;00m\u001b[38;5;124m - \u001b[39m\u001b[38;5;132;01m{\u001b[39;00mmethod\u001b[38;5;132;01m}\u001b[39;00m\u001b[38;5;124m\"\u001b[39m)\n\u001b[1;32m     20\u001b[0m \u001b[38;5;28;01mtry\u001b[39;00m:\n\u001b[0;32m---> 21\u001b[0m     _, y \u001b[38;5;241m=\u001b[39m \u001b[43mdoa\u001b[49m\u001b[38;5;241;43m.\u001b[39;49m\u001b[43mfull_doa_pipeline\u001b[49m\u001b[43m(\u001b[49m\n\u001b[1;32m     22\u001b[0m \u001b[43m        \u001b[49m\u001b[38;5;124;43m\"\u001b[39;49m\u001b[38;5;124;43mvariacion_rt60.json\u001b[39;49m\u001b[38;5;124;43m\"\u001b[39;49m\u001b[43m,\u001b[49m\u001b[43m \u001b[49m\n\u001b[1;32m     23\u001b[0m \u001b[43m        \u001b[49m\u001b[38;5;124;43mf\u001b[39;49m\u001b[38;5;124;43m\"\u001b[39;49m\u001b[38;5;124;43mAudios/\u001b[39;49m\u001b[38;5;132;43;01m{\u001b[39;49;00m\u001b[43msig_file\u001b[49m\u001b[38;5;132;43;01m}\u001b[39;49;00m\u001b[38;5;124;43m\"\u001b[39;49m\u001b[43m,\u001b[49m\n\u001b[1;32m     24\u001b[0m \u001b[43m        \u001b[49m\u001b[43mmethod\u001b[49m\u001b[38;5;241;43m=\u001b[39;49m\u001b[43mmethod\u001b[49m\u001b[43m,\u001b[49m\n\u001b[1;32m     25\u001b[0m \u001b[43m        \u001b[49m\u001b[43mvariable_param\u001b[49m\u001b[38;5;241;43m=\u001b[39;49m\u001b[38;5;124;43m\"\u001b[39;49m\u001b[38;5;124;43mrt60\u001b[39;49m\u001b[38;5;124;43m\"\u001b[39;49m\u001b[43m,\u001b[49m\n\u001b[1;32m     26\u001b[0m \u001b[43m        \u001b[49m\u001b[43mreturn_error\u001b[49m\u001b[38;5;241;43m=\u001b[39;49m\u001b[38;5;28;43;01mTrue\u001b[39;49;00m\n\u001b[1;32m     27\u001b[0m \u001b[43m    \u001b[49m\u001b[43m)\u001b[49m\n\u001b[1;32m     28\u001b[0m     results[sig_label]\u001b[38;5;241m.\u001b[39mappend(y)  \u001b[38;5;66;03m# lista de errores por método\u001b[39;00m\n\u001b[1;32m     29\u001b[0m \u001b[38;5;28;01mexcept\u001b[39;00m \u001b[38;5;167;01mException\u001b[39;00m \u001b[38;5;28;01mas\u001b[39;00m e:\n",
      "File \u001b[0;32m~/Desktop/PDS/doascripts.py:520\u001b[0m, in \u001b[0;36mfull_doa_pipeline\u001b[0;34m(json_path, signal, method, max_tau, c, variable_param, return_error)\u001b[0m\n\u001b[1;32m    517\u001b[0m mic_pairs \u001b[38;5;241m=\u001b[39m [(\u001b[38;5;241m0\u001b[39m, i) \u001b[38;5;28;01mfor\u001b[39;00m i \u001b[38;5;129;01min\u001b[39;00m \u001b[38;5;28mrange\u001b[39m(\u001b[38;5;241m1\u001b[39m, n_mics)]\n\u001b[1;32m    519\u001b[0m \u001b[38;5;66;03m# Calcular TDOAs y DOAs con cálculo automático de max_tau si no se pasa\u001b[39;00m\n\u001b[0;32m--> 520\u001b[0m all_tdoas \u001b[38;5;241m=\u001b[39m \u001b[43mbatch_gcc_tdoas\u001b[49m\u001b[43m(\u001b[49m\n\u001b[1;32m    521\u001b[0m \u001b[43m    \u001b[49m\u001b[43mall_signals\u001b[49m\u001b[43m,\u001b[49m\u001b[43m \u001b[49m\u001b[43mfs_list\u001b[49m\u001b[43m,\u001b[49m\n\u001b[1;32m    522\u001b[0m \u001b[43m    \u001b[49m\u001b[43mmic_positions_list\u001b[49m\u001b[38;5;241;43m=\u001b[39;49m\u001b[43mmic_positions_list\u001b[49m\u001b[43m,\u001b[49m\n\u001b[1;32m    523\u001b[0m \u001b[43m    \u001b[49m\u001b[43mmic_pairs\u001b[49m\u001b[38;5;241;43m=\u001b[39;49m\u001b[43mmic_pairs\u001b[49m\u001b[43m,\u001b[49m\n\u001b[1;32m    524\u001b[0m \u001b[43m    \u001b[49m\u001b[43mmethod\u001b[49m\u001b[38;5;241;43m=\u001b[39;49m\u001b[43mmethod\u001b[49m\u001b[43m,\u001b[49m\n\u001b[1;32m    525\u001b[0m \u001b[43m    \u001b[49m\u001b[43mmax_tau\u001b[49m\u001b[38;5;241;43m=\u001b[39;49m\u001b[43mmax_tau\u001b[49m\u001b[43m,\u001b[49m\n\u001b[1;32m    526\u001b[0m \u001b[43m    \u001b[49m\u001b[43mc\u001b[49m\u001b[38;5;241;43m=\u001b[39;49m\u001b[43mc\u001b[49m\n\u001b[1;32m    527\u001b[0m \u001b[43m\u001b[49m\u001b[43m)\u001b[49m\n\u001b[1;32m    528\u001b[0m doa_results \u001b[38;5;241m=\u001b[39m batch_doas(all_tdoas, mic_positions_list, mic_pairs, c)\n\u001b[1;32m    530\u001b[0m \u001b[38;5;28;01mif\u001b[39;00m return_error:\n",
      "File \u001b[0;32m~/Desktop/PDS/doascripts.py:329\u001b[0m, in \u001b[0;36mbatch_gcc_tdoas\u001b[0;34m(all_signals, fs_list, mic_positions_list, mic_pairs, method, max_tau, c)\u001b[0m\n\u001b[1;32m    326\u001b[0m     max_tau_sim \u001b[38;5;241m=\u001b[39m max_tau\n\u001b[1;32m    328\u001b[0m \u001b[38;5;66;03m# Ejecutar estimación de TDOA por arrays de simulacion signals (n_mics, n_samples)\u001b[39;00m\n\u001b[0;32m--> 329\u001b[0m tdoas \u001b[38;5;241m=\u001b[39m \u001b[43mgcc_tdoas\u001b[49m\u001b[43m(\u001b[49m\n\u001b[1;32m    330\u001b[0m \u001b[43m    \u001b[49m\u001b[43msignals\u001b[49m\u001b[43m,\u001b[49m\n\u001b[1;32m    331\u001b[0m \u001b[43m    \u001b[49m\u001b[43mfs\u001b[49m\u001b[43m,\u001b[49m\n\u001b[1;32m    332\u001b[0m \u001b[43m    \u001b[49m\u001b[43mmic_pairs\u001b[49m\u001b[38;5;241;43m=\u001b[39;49m\u001b[43mmic_pairs\u001b[49m\u001b[43m,\u001b[49m\n\u001b[1;32m    333\u001b[0m \u001b[43m    \u001b[49m\u001b[43mmethod\u001b[49m\u001b[38;5;241;43m=\u001b[39;49m\u001b[43mmethod\u001b[49m\u001b[43m,\u001b[49m\n\u001b[1;32m    334\u001b[0m \u001b[43m    \u001b[49m\u001b[43mmax_tau\u001b[49m\u001b[38;5;241;43m=\u001b[39;49m\u001b[43mmax_tau_sim\u001b[49m\n\u001b[1;32m    335\u001b[0m \u001b[43m\u001b[49m\u001b[43m)\u001b[49m\n\u001b[1;32m    336\u001b[0m all_tdoas\u001b[38;5;241m.\u001b[39mappend(tdoas)\n\u001b[1;32m    338\u001b[0m \u001b[38;5;66;03m# va guardando los varios tdoas por simulacion, es una lista de listas\u001b[39;00m\n",
      "File \u001b[0;32m~/Desktop/PDS/doascripts.py:172\u001b[0m, in \u001b[0;36mgcc_tdoas\u001b[0;34m(signals, fs, max_tau, method, mic_pairs, c)\u001b[0m\n\u001b[1;32m    168\u001b[0m sig2 \u001b[38;5;241m=\u001b[39m signals[j]\n\u001b[1;32m    171\u001b[0m SIG1 \u001b[38;5;241m=\u001b[39m np\u001b[38;5;241m.\u001b[39mfft\u001b[38;5;241m.\u001b[39mfft(sig1)\n\u001b[0;32m--> 172\u001b[0m SIG2 \u001b[38;5;241m=\u001b[39m \u001b[43mnp\u001b[49m\u001b[38;5;241;43m.\u001b[39;49m\u001b[43mfft\u001b[49m\u001b[38;5;241;43m.\u001b[39;49m\u001b[43mfft\u001b[49m\u001b[43m(\u001b[49m\u001b[43msig2\u001b[49m\u001b[43m)\u001b[49m\n\u001b[1;32m    173\u001b[0m R \u001b[38;5;241m=\u001b[39m SIG1 \u001b[38;5;241m*\u001b[39m np\u001b[38;5;241m.\u001b[39mconj(SIG2)\n\u001b[1;32m    175\u001b[0m \u001b[38;5;28;01mif\u001b[39;00m method \u001b[38;5;241m==\u001b[39m \u001b[38;5;124m\"\u001b[39m\u001b[38;5;124mphat\u001b[39m\u001b[38;5;124m\"\u001b[39m:\n",
      "File \u001b[0;32m<__array_function__ internals>:200\u001b[0m, in \u001b[0;36mfft\u001b[0;34m(*args, **kwargs)\u001b[0m\n",
      "File \u001b[0;32m~/opt/anaconda3/lib/python3.9/site-packages/numpy/fft/_pocketfft.py:215\u001b[0m, in \u001b[0;36mfft\u001b[0;34m(a, n, axis, norm)\u001b[0m\n\u001b[1;32m    213\u001b[0m     n \u001b[38;5;241m=\u001b[39m a\u001b[38;5;241m.\u001b[39mshape[axis]\n\u001b[1;32m    214\u001b[0m inv_norm \u001b[38;5;241m=\u001b[39m _get_forward_norm(n, norm)\n\u001b[0;32m--> 215\u001b[0m output \u001b[38;5;241m=\u001b[39m \u001b[43m_raw_fft\u001b[49m\u001b[43m(\u001b[49m\u001b[43ma\u001b[49m\u001b[43m,\u001b[49m\u001b[43m \u001b[49m\u001b[43mn\u001b[49m\u001b[43m,\u001b[49m\u001b[43m \u001b[49m\u001b[43maxis\u001b[49m\u001b[43m,\u001b[49m\u001b[43m \u001b[49m\u001b[38;5;28;43;01mFalse\u001b[39;49;00m\u001b[43m,\u001b[49m\u001b[43m \u001b[49m\u001b[38;5;28;43;01mTrue\u001b[39;49;00m\u001b[43m,\u001b[49m\u001b[43m \u001b[49m\u001b[43minv_norm\u001b[49m\u001b[43m)\u001b[49m\n\u001b[1;32m    216\u001b[0m \u001b[38;5;28;01mreturn\u001b[39;00m output\n",
      "File \u001b[0;32m~/opt/anaconda3/lib/python3.9/site-packages/numpy/fft/_pocketfft.py:70\u001b[0m, in \u001b[0;36m_raw_fft\u001b[0;34m(a, n, axis, is_real, is_forward, inv_norm)\u001b[0m\n\u001b[1;32m     67\u001b[0m         a \u001b[38;5;241m=\u001b[39m z\n\u001b[1;32m     69\u001b[0m \u001b[38;5;28;01mif\u001b[39;00m axis \u001b[38;5;241m==\u001b[39m a\u001b[38;5;241m.\u001b[39mndim\u001b[38;5;241m-\u001b[39m\u001b[38;5;241m1\u001b[39m:\n\u001b[0;32m---> 70\u001b[0m     r \u001b[38;5;241m=\u001b[39m \u001b[43mpfi\u001b[49m\u001b[38;5;241;43m.\u001b[39;49m\u001b[43mexecute\u001b[49m\u001b[43m(\u001b[49m\u001b[43ma\u001b[49m\u001b[43m,\u001b[49m\u001b[43m \u001b[49m\u001b[43mis_real\u001b[49m\u001b[43m,\u001b[49m\u001b[43m \u001b[49m\u001b[43mis_forward\u001b[49m\u001b[43m,\u001b[49m\u001b[43m \u001b[49m\u001b[43mfct\u001b[49m\u001b[43m)\u001b[49m\n\u001b[1;32m     71\u001b[0m \u001b[38;5;28;01melse\u001b[39;00m:\n\u001b[1;32m     72\u001b[0m     a \u001b[38;5;241m=\u001b[39m swapaxes(a, axis, \u001b[38;5;241m-\u001b[39m\u001b[38;5;241m1\u001b[39m)\n",
      "\u001b[0;31mKeyboardInterrupt\u001b[0m: "
     ]
    }
   ],
   "source": [
    "\n",
    "# Señales a iterar\n",
    "signals = [\n",
    "    (\"imp.wav\", \"Impulso\"),\n",
    "    (\"guitar.wav\", \"Guitarra\"),\n",
    "    (\"fem_voice.wav\", \"Voz femenina\"),\n",
    "    (\"male_voice.wav\", \"Voz masculina\"),\n",
    "]\n",
    "\n",
    "# Métodos a usar\n",
    "methods = [\"classicfft\", \"phat\", \"scot\", \"roth\", \"ml\"]\n",
    "colors = ['#1f77b4', '#ff7f0e', '#2ca02c', '#d62728', '#9467bd']\n",
    "\n",
    "# Diccionario para guardar listas completas de errores\n",
    "results = {sig_label: [] for _, sig_label in signals}\n",
    "\n",
    "# Ejecutar y recolectar errores por señal y método\n",
    "for sig_file, sig_label in signals:\n",
    "    for method in methods:\n",
    "        print(f\"Procesando: {sig_label} - {method}\")\n",
    "        try:\n",
    "            _, y = doa.full_doa_pipeline(\n",
    "                \"variacion_rt60.json\", \n",
    "                f\"Audios/{sig_file}\",\n",
    "                method=method,\n",
    "                variable_param=\"rt60\",\n",
    "                return_error=True\n",
    "            )\n",
    "            results[sig_label].append(y)  # lista de errores por método\n",
    "        except Exception as e:\n",
    "            print(f\"Error con {sig_label} - {method}: {e}\")\n",
    "            results[sig_label].append([])\n",
    "\n"
   ]
  },
  {
   "cell_type": "code",
   "execution_count": null,
   "metadata": {},
   "outputs": [],
   "source": [
    "# ----------- BOXPLOT -----------\n",
    "\n",
    "plt.figure(figsize=(14, 6))\n",
    "group_width = 0.8\n",
    "box_width = group_width / len(methods)\n",
    "n_signals = len(signals)\n",
    "\n",
    "# Para leyenda\n",
    "method_patches = []\n",
    "\n",
    "# Graficar boxplots desplazados\n",
    "for m_idx, method in enumerate(methods):\n",
    "    data = []\n",
    "    positions = []\n",
    "\n",
    "    for s_idx, (_, sig_label) in enumerate(signals):\n",
    "        errors = results[sig_label][m_idx]\n",
    "        data.append(errors)\n",
    "        offset = (m_idx - len(methods) / 2) * box_width + box_width / 2\n",
    "        pos = s_idx + offset\n",
    "        positions.append(pos)\n",
    "\n",
    "    box = plt.boxplot(\n",
    "        data, positions=positions, widths=box_width * 0.9,\n",
    "        patch_artist=True, showfliers=True\n",
    "    )\n",
    "    for patch in box['boxes']:\n",
    "        patch.set_facecolor(colors[m_idx])\n",
    "    method_patches.append(mpatches.Patch(color=colors[m_idx], label=method))\n",
    "\n",
    "# Etiquetas y leyenda\n",
    "plt.xticks(range(n_signals), [label for _, label in signals])\n",
    "plt.xlabel(\"Señal\")\n",
    "plt.ylabel(\"Error absoluto del DOA (°)\")\n",
    "plt.title(\"Distribución de errores de DOA por señal y método\")\n",
    "plt.legend(handles=method_patches, title=\"Método\", bbox_to_anchor=(1.02, 1), loc='upper left')\n",
    "plt.grid(True, axis='y', linestyle='--', alpha=0.5)\n",
    "plt.tight_layout()\n",
    "plt.savefig(\"boxplot_por_senal_y_metodo.png\", dpi=300, bbox_inches='tight')\n",
    "plt.show()\n"
   ]
  },
  {
   "cell_type": "markdown",
   "metadata": {},
   "source": [
    "# Barras"
   ]
  },
  {
   "cell_type": "markdown",
   "metadata": {},
   "source": [
    "Se grafican en barras las señales y los tipos de ponderación para un parámetro variado."
   ]
  },
  {
   "cell_type": "code",
   "execution_count": null,
   "metadata": {},
   "outputs": [],
   "source": [
    "# Señales a iterar\n",
    "signals = [\n",
    "    (\"imp.wav\", \"Impulso\"),\n",
    "    (\"guitar.wav\", \"Guitarra\"),\n",
    "    (\"fem_voice.wav\", \"Voz femenina\"),\n",
    "    (\"male_voice.wav\", \"Voz masculina\"),\n",
    "]\n",
    "\n",
    "# Métodos a usar\n",
    "methods = [\n",
    "    \"classicfft\",\n",
    "    \"phat\", \"scot\", \"roth\", \n",
    "    \"ml\"\n",
    "]\n",
    "\n",
    "# Diccionario para guardar resultados\n",
    "results = {}\n",
    "\n",
    "# Correr combinaciones\n",
    "for sig_file, sig_label in signals:\n",
    "    mean_errors = []\n",
    "    std_errors = []\n",
    "    for method in methods:\n",
    "        print(f\"Procesando: {sig_label} - {method}\")\n",
    "        try:\n",
    "            x, y = doa.full_doa_pipeline(\n",
    "                \"variacion_rt60.json\", \n",
    "                f\"Audios/{sig_file}\",\n",
    "                method=method,\n",
    "                variable_param=\"rt60\",\n",
    "                return_error=True\n",
    "            )\n",
    "            mean_errors.append(np.mean(y))\n",
    "            std_errors.append(np.std(y))\n",
    "        except Exception as e:\n",
    "            print(f\"Error con {sig_label} - {method}: {e}\")\n",
    "            mean_errors.append(np.nan)\n",
    "            std_errors.append(np.nan)\n",
    "    results[sig_label] = (mean_errors, std_errors)\n",
    "\n"
   ]
  },
  {
   "cell_type": "code",
   "execution_count": null,
   "metadata": {},
   "outputs": [],
   "source": [
    "# === Gráfico agrupado por señal ===\n",
    "n_signals = len(signals)\n",
    "n_methods = len(methods)\n",
    "bar_width = 0.12\n",
    "group_spacing = 0.25\n",
    "\n",
    "# Posiciones de los grupos de señales\n",
    "group_centers = np.arange(n_signals)\n",
    "method_offsets = (np.arange(n_methods) - (n_methods - 1) / 2) * bar_width\n",
    "\n",
    "plt.figure(figsize=(18, 10))\n",
    "\n",
    "for i, method in enumerate(methods):\n",
    "    bar_vals = [results[label][0][i] for _, label in signals]\n",
    "    bar_errs = [results[label][1][i] for _, label in signals]\n",
    "    bar_pos = group_centers + method_offsets[i]\n",
    "    plt.bar(bar_pos, bar_vals, width=bar_width, yerr=bar_errs, capsize=4, label=method)\n",
    "\n",
    "# Etiquetas centradas por grupo de señal\n",
    "plt.xticks(group_centers, [label for _, label in signals])\n",
    "plt.xlabel(\"Tipo de señal\")\n",
    "plt.ylabel(\"Error medio absoluto del DOA (°)\")\n",
    "plt.title(\"Variación RT60\")\n",
    "plt.grid(True, axis='y', linestyle='--', alpha=0.5)\n",
    "plt.legend(title=\"Método GCC\", bbox_to_anchor=(1.05, 1), loc='upper left')\n",
    "plt.tight_layout()\n",
    "plt.savefig(\"Barras RT60.png\", dpi=300, bbox_inches='tight')\n",
    "\n",
    "plt.show()\n"
   ]
  },
  {
   "cell_type": "markdown",
   "metadata": {},
   "source": [
    "Esto es por si queremos mostrar en graficos separados las señales"
   ]
  },
  {
   "cell_type": "code",
   "execution_count": null,
   "metadata": {},
   "outputs": [],
   "source": [
    "# === Gráficos en subplots con colores consistentes ===\n",
    "n_signals = len(signals)\n",
    "n_methods = len(methods)\n",
    "bar_width = 0.7\n",
    "\n",
    "fig, axs = plt.subplots(2, 2, figsize=(16, 10), sharey=True)\n",
    "axs = axs.flatten()\n",
    "\n",
    "x_pos = np.arange(n_methods)\n",
    "\n",
    "# Obtener el ciclo de colores actual para usarlo en todos los subplots\n",
    "prop_cycle = plt.rcParams['axes.prop_cycle']\n",
    "colors = prop_cycle.by_key()['color']\n",
    "\n",
    "for i, (sig_file, sig_label) in enumerate(signals):\n",
    "    ax = axs[i]\n",
    "    means, stds = results[sig_label]\n",
    "    \n",
    "    for j in range(n_methods):\n",
    "        ax.bar(x_pos[j], means[j], width=bar_width, yerr=stds[j], capsize=5, alpha=0.8, color=colors[j])\n",
    "    \n",
    "    ax.set_xticks(x_pos)\n",
    "    ax.set_xticklabels(methods, rotation=45)\n",
    "    ax.set_title(f\"Error absoluto medio - {sig_label}\")\n",
    "    ax.set_xlabel(\"Método GCC\")\n",
    "    if i % 2 == 0:\n",
    "        ax.set_ylabel(\"Error absoluto DOA (°)\")\n",
    "    ax.grid(axis='y', linestyle='--', alpha=0.5)\n",
    "\n",
    "fig.suptitle(\"Comparación del error absoluto medio del DOA por señal y método\", fontsize=16)\n",
    "plt.tight_layout(rect=[0, 0, 1, 0.95])\n",
    "plt.show()\n"
   ]
  },
  {
   "cell_type": "markdown",
   "metadata": {},
   "source": [
    "Gráficos de cada variable con todas las ponderaciones en el gráfico"
   ]
  },
  {
   "cell_type": "markdown",
   "metadata": {},
   "source": [
    "# RT60"
   ]
  },
  {
   "cell_type": "code",
   "execution_count": null,
   "metadata": {},
   "outputs": [],
   "source": [
    "\n",
    "methods = [\n",
    "    \"classicfft\",\n",
    "    #\"phat\",\n",
    "    #\"scot\",\n",
    "    #\"roth\",\n",
    "    #\"ml\"\n",
    "]\n",
    "\n",
    "plt.figure(figsize=(10,6))\n",
    "\n",
    "for method in methods:\n",
    "    print(f\"Running method: {method}\")\n",
    "    rt60_vals, error_vals = doa.full_doa_pipeline(\n",
    "        \"variacion_rt60.json\",\n",
    "        \"Audios/imp.wav\",\n",
    "        method=method,\n",
    "        variable_param=\"rt60\",\n",
    "        return_error=True\n",
    "    )\n",
    "    # En caso de que error_vals sea lista de listas, hago media\n",
    "    if isinstance(error_vals[0], (list, np.ndarray)):\n",
    "        mean_errors = [np.mean(e) for e in error_vals]\n",
    "    else:\n",
    "        mean_errors = error_vals\n",
    "    plt.plot(rt60_vals, mean_errors, label=method)\n",
    "\n",
    "plt.xlabel(\"RT60 (s)\")\n",
    "plt.ylabel(\"Error de estimación de DOA (°)\")\n",
    "plt.title(\"Error de DOA vs RT60\")\n",
    "plt.grid(True)\n",
    "plt.legend()\n",
    "plt.tight_layout()\n",
    "plt.show()\n"
   ]
  },
  {
   "cell_type": "markdown",
   "metadata": {},
   "source": [
    "# fs"
   ]
  },
  {
   "cell_type": "code",
   "execution_count": null,
   "metadata": {},
   "outputs": [],
   "source": [
    "methods = [\n",
    "    \"classicfft\",\n",
    "    #\"phat\",\n",
    "    #\"scot\",\n",
    "    #\"roth\",\n",
    "    #\"ml\"\n",
    "]\n",
    "\n",
    "plt.figure(figsize=(10,6))\n",
    "\n",
    "for method in methods:\n",
    "    print(f\"Running method: {method}\")\n",
    "    rt60_vals, error_vals = doa.full_doa_pipeline(\n",
    "        \"variacion_fs.json\",\n",
    "        \"Audios/imp.wav\",\n",
    "        method=method,\n",
    "        variable_param=\"fs\",\n",
    "        return_error=True\n",
    "    )\n",
    "    # En caso de que error_vals sea lista de listas, hago media\n",
    "    if isinstance(error_vals[0], (list, np.ndarray)):\n",
    "        mean_errors = [np.mean(e) for e in error_vals]\n",
    "    else:\n",
    "        mean_errors = error_vals\n",
    "    plt.plot(rt60_vals, mean_errors, label=method)\n",
    "\n",
    "plt.xlabel(\"Frecuencia de muestreo\")\n",
    "plt.ylabel(\"Error de estimación de DOA (°)\")\n",
    "plt.title(\"Error de DOA vs frecuencia de muestreo\")\n",
    "plt.grid(True)\n",
    "plt.legend()\n",
    "plt.tight_layout()\n",
    "plt.show()\n"
   ]
  },
  {
   "cell_type": "markdown",
   "metadata": {},
   "source": [
    "# SNR"
   ]
  },
  {
   "cell_type": "code",
   "execution_count": null,
   "metadata": {},
   "outputs": [],
   "source": [
    "methods = [\n",
    "    \"classicfft\",\n",
    "    #\"phat\",\n",
    "    #\"scot\",\n",
    "    #\"roth\",\n",
    "    #\"ml\"\n",
    "]\n",
    "\n",
    "plt.figure(figsize=(10,6))\n",
    "\n",
    "for method in methods:\n",
    "    print(f\"Running method: {method}\")\n",
    "    rt60_vals, error_vals = doa.full_doa_pipeline(\n",
    "        \"variacion_snr.json\",\n",
    "        \"Audios/imp.wav\",\n",
    "        method=method,\n",
    "        variable_param=\"snr\",\n",
    "        return_error=True\n",
    "    )\n",
    "    # En caso de que error_vals sea lista de listas, hago media\n",
    "    if isinstance(error_vals[0], (list, np.ndarray)):\n",
    "        mean_errors = [np.mean(e) for e in error_vals]\n",
    "    else:\n",
    "        mean_errors = error_vals\n",
    "    plt.plot(rt60_vals, mean_errors, label=method)\n",
    "\n",
    "plt.xlabel(\"SNR (dB)\")\n",
    "plt.ylabel(\"Error de estimación de DOA (°)\")\n",
    "plt.title(\"Error de DOA vs SNR\")\n",
    "plt.grid(True)\n",
    "plt.legend()\n",
    "plt.tight_layout()\n",
    "plt.show()\n",
    "\n"
   ]
  },
  {
   "cell_type": "markdown",
   "metadata": {},
   "source": [
    "# Posicion de mics"
   ]
  },
  {
   "cell_type": "code",
   "execution_count": 4,
   "metadata": {},
   "outputs": [
    {
     "name": "stdout",
     "output_type": "stream",
     "text": [
      "Running method: classicfft\n",
      "Running method: phat\n",
      "Running method: scot\n",
      "Running method: roth\n",
      "Running method: ml\n"
     ]
    },
    {
     "data": {
      "image/png": "[encoded data removed]",
      "text/plain": [
       "<Figure size 720x432 with 1 Axes>"
      ]
     },
     "metadata": {
      "needs_background": "light"
     },
     "output_type": "display_data"
    }
   ],
   "source": [
    "methods = [\n",
    "    \"classicfft\",\n",
    "    \"phat\",\n",
    "    \"scot\",\n",
    "    \"roth\",\n",
    "    \"ml\"\n",
    "]\n",
    "\n",
    "plt.figure(figsize=(10,6))\n",
    "\n",
    "for method in methods:\n",
    "    print(f\"Running method: {method}\")\n",
    "    mic_vals, doa_vals = doa.full_doa_pipeline(\n",
    "        \"variacion_mic_pos.json\",\n",
    "        \"Audios/imp.wav\",\n",
    "        method=method,\n",
    "        variable_param=\"mic_start\",\n",
    "        return_error=False\n",
    "    )\n",
    "\n",
    "    x_vals = np.array(mic_vals)[:, 0]\n",
    "    plt.plot(x_vals, doa_vals, label=method)\n",
    "\n",
    "plt.xlabel(\"Posición de inicio array de micrófonos\")\n",
    "plt.axhline(y=45, color='gray', linestyle='--', label='Ángulo real')\n",
    "plt.ylabel(\"Estimación de DOA (°)\")\n",
    "plt.title(\" DOA vs Posición Array\")\n",
    "plt.grid(True)\n",
    "plt.legend()\n",
    "plt.tight_layout()\n",
    "plt.show()\n"
   ]
  },
  {
   "cell_type": "code",
   "execution_count": 36,
   "metadata": {},
   "outputs": [
    {
     "name": "stdout",
     "output_type": "stream",
     "text": [
      "Running method: classicfft\n",
      "Running method: phat\n",
      "Running method: scot\n",
      "Running method: roth\n",
      "Running method: ml\n"
     ]
    },
    {
     "data": {
      "image/png": "[encoded data removed]",
      "text/plain": [
       "<Figure size 864x432 with 1 Axes>"
      ]
     },
     "metadata": {
      "needs_background": "light"
     },
     "output_type": "display_data"
    }
   ],
   "source": [
    "# Señal a usar (solo impulso)\n",
    "signal_file = \"imp.wav\"\n",
    "signal_label = \"Impulso\"\n",
    "\n",
    "# Diccionario para guardar resultados\n",
    "results = {}\n",
    "\n",
    "# Recolectar errores\n",
    "all_errors = []\n",
    "for method in methods:\n",
    "    print(f\"Running method: {method}\")\n",
    "    try:\n",
    "        mic_vals, doa_vals = doa.full_doa_pipeline(\n",
    "            \"variacion_mic_pos.json\",\n",
    "            \"Audios/imp.wav\",\n",
    "            method=method,\n",
    "            variable_param=\"mic_start\",\n",
    "            return_error=True\n",
    "        )\n",
    "        all_errors.append(doa_vals)  # suponiendo que 'doa_vals' son los errores\n",
    "    except Exception as e:\n",
    "        print(f\"Error con {signal_label} - {method}: {e}\")\n",
    "        all_errors.append([np.nan])\n",
    "\n",
    "results[signal_label] = all_errors\n",
    "\n",
    "# Graficar boxplot\n",
    "\n",
    "plt.figure(figsize=(12, 6))\n",
    "\n",
    "data = results[signal_label]\n",
    "positions = np.arange(len(methods))\n",
    "colors = ['#1f77b4', '#ff7f0e', '#2ca02c', '#d62728', '#9467bd']\n",
    "method_patches = []\n",
    "\n",
    "# Crear boxplot\n",
    "box = plt.boxplot(data, positions=positions, widths=0.5, patch_artist=True, showfliers=True)\n",
    "\n",
    "# Colorear cada método distinto\n",
    "for patch, color in zip(box['boxes'], colors):\n",
    "    patch.set_facecolor(color)\n",
    "\n",
    "# Leyenda\n",
    "for i, method in enumerate(methods):\n",
    "    method_patches.append(mpatches.Patch(color=colors[i], label=method))\n",
    "\n",
    "plt.xticks(positions, methods, rotation=0)\n",
    "plt.xlabel(\"Método GCC\")\n",
    "plt.ylabel(\"Error absoluto del DOA (°)\")\n",
    "plt.title(\"Distribución de errores por método (Señal: Impulso)\")\n",
    "plt.grid(True, axis='y', linestyle='--', alpha=0.5)\n",
    "plt.legend(handles=method_patches, title=\"Método\", bbox_to_anchor=(1.02, 1), loc='upper left')\n",
    "plt.tight_layout()\n",
    "plt.savefig(\"Boxplot_mic_pos.png\", dpi=300, bbox_inches='tight')\n",
    "plt.show()"
   ]
  },
  {
   "cell_type": "markdown",
   "metadata": {},
   "source": [
    "# Cantidad de micrófonos"
   ]
  },
  {
   "cell_type": "code",
   "execution_count": 10,
   "metadata": {},
   "outputs": [
    {
     "name": "stdout",
     "output_type": "stream",
     "text": [
      "Running method: classicfft\n",
      "Running method: phat\n",
      "Running method: scot\n",
      "Running method: roth\n",
      "Running method: ml\n"
     ]
    },
    {
     "data": {
      "image/png": "[encoded data removed]",
      "text/plain": [
       "<Figure size 720x432 with 1 Axes>"
      ]
     },
     "metadata": {
      "needs_background": "light"
     },
     "output_type": "display_data"
    }
   ],
   "source": [
    "methods = [\n",
    "    \"classicfft\",\n",
    "    \"phat\",\n",
    "    \"scot\",\n",
    "    \"roth\",\n",
    "    \"ml\"\n",
    "]\n",
    "\n",
    "plt.figure(figsize=(10,6))\n",
    "\n",
    "for method in methods:\n",
    "    print(f\"Running method: {method}\")\n",
    "    mic_vals, doa_vals = doa.full_doa_pipeline(\n",
    "        \"variacion_mic_amount.json\",\n",
    "        \"Audios/imp.wav\",\n",
    "        method=method,\n",
    "        variable_param=\"mic_amount\",\n",
    "        return_error=False\n",
    "    )\n",
    "\n",
    "    plt.plot(mic_vals, doa_vals, label=method)\n",
    "\n",
    "plt.xlabel(\"Cantidad de micrófonos\")\n",
    "plt.axhline(y=45, color='gray', linestyle='--', label='Ángulo real 45°')\n",
    "plt.ylabel(\"Estimación de DOA (°)\")\n",
    "plt.title(\" DOA vs cantidad de micrófonos\")\n",
    "plt.grid(True)\n",
    "plt.legend()\n",
    "plt.tight_layout()\n",
    "plt.show()\n"
   ]
  },
  {
   "cell_type": "code",
   "execution_count": 38,
   "metadata": {},
   "outputs": [
    {
     "name": "stdout",
     "output_type": "stream",
     "text": [
      "Procesando: Impulso - classicfft\n",
      "Procesando: Impulso - phat\n",
      "Procesando: Impulso - scot\n",
      "Procesando: Impulso - roth\n",
      "Procesando: Impulso - ml\n"
     ]
    },
    {
     "data": {
      "image/png": "[encoded data removed]",
      "text/plain": [
       "<Figure size 864x432 with 1 Axes>"
      ]
     },
     "metadata": {
      "needs_background": "light"
     },
     "output_type": "display_data"
    }
   ],
   "source": [
    "# Señal a usar (solo impulso)\n",
    "signal_file = \"imp.wav\"\n",
    "signal_label = \"Impulso\"\n",
    "\n",
    "# Métodos a usar\n",
    "methods = [\n",
    "    \"classicfft\",\n",
    "    \"phat\", \"scot\", \"roth\", \n",
    "    \"ml\"\n",
    "]\n",
    "\n",
    "# Diccionario para guardar resultados\n",
    "results = {}\n",
    "\n",
    "# Recolectar errores\n",
    "all_errors = []\n",
    "for method in methods:\n",
    "    print(f\"Procesando: {signal_label} - {method}\")\n",
    "    try:\n",
    "        x, y = doa.full_doa_pipeline(\n",
    "            \"variacion_mic_amount.json\", \n",
    "            f\"Audios/{signal_file}\",\n",
    "            method=method,\n",
    "            variable_param=\"mic_amount\",\n",
    "            return_error=True\n",
    "        )\n",
    "        all_errors.append(y)  # y es la lista de errores individuales\n",
    "    except Exception as e:\n",
    "        print(f\"Error con {signal_label} - {method}: {e}\")\n",
    "        all_errors.append([np.nan])\n",
    "\n",
    "results[signal_label] = all_errors\n",
    "\n",
    "# Graficar boxplot\n",
    "\n",
    "plt.figure(figsize=(12, 6))\n",
    "\n",
    "data = results[signal_label]\n",
    "positions = np.arange(len(methods))\n",
    "colors = ['#1f77b4', '#ff7f0e', '#2ca02c', '#d62728', '#9467bd']\n",
    "method_patches = []\n",
    "\n",
    "# Crear boxplot\n",
    "box = plt.boxplot(data, positions=positions, widths=0.5, patch_artist=True, showfliers=True)\n",
    "\n",
    "# Colorear cada método distinto\n",
    "for patch, color in zip(box['boxes'], colors):\n",
    "    patch.set_facecolor(color)\n",
    "\n",
    "# Leyenda\n",
    "for i, method in enumerate(methods):\n",
    "    method_patches.append(mpatches.Patch(color=colors[i], label=method))\n",
    "\n",
    "plt.xticks(positions, methods, rotation=0)\n",
    "plt.xlabel(\"Método GCC\")\n",
    "plt.ylabel(\"Error absoluto del DOA (°)\")\n",
    "plt.title(\"Distribución de errores por método (Señal: Impulso)\")\n",
    "plt.grid(True, axis='y', linestyle='--', alpha=0.5)\n",
    "plt.legend(handles=method_patches, title=\"Método\", bbox_to_anchor=(1.02, 1), loc='upper left')\n",
    "plt.tight_layout()\n",
    "plt.savefig(\"Boxplot_mic_amount.png\", dpi=300, bbox_inches='tight')\n",
    "plt.show()"
   ]
  },
  {
   "cell_type": "markdown",
   "metadata": {},
   "source": [
    "# Elevación fuente"
   ]
  },
  {
   "cell_type": "code",
   "execution_count": 39,
   "metadata": {},
   "outputs": [
    {
     "name": "stdout",
     "output_type": "stream",
     "text": [
      "Running method: classicfft\n",
      "Running method: phat\n",
      "Running method: scot\n",
      "Running method: roth\n",
      "Running method: ml\n"
     ]
    },
    {
     "data": {
      "image/png": "[encoded data removed]",
      "text/plain": [
       "<Figure size 720x432 with 1 Axes>"
      ]
     },
     "metadata": {
      "needs_background": "light"
     },
     "output_type": "display_data"
    }
   ],
   "source": [
    "methods = [\n",
    "    \"classicfft\",\n",
    "    \"phat\",\n",
    "    \"scot\",\n",
    "    \"roth\",\n",
    "    \"ml\"\n",
    "]\n",
    "\n",
    "plt.figure(figsize=(10,6))\n",
    "\n",
    "for method in methods:\n",
    "    print(f\"Running method: {method}\")\n",
    "    mic_vals, doa_vals = doa.full_doa_pipeline(\n",
    "        \"variacion_source_pos.json\",\n",
    "        \"Audios/imp.wav\",\n",
    "        method=method,\n",
    "        variable_param=\"source_pos\",\n",
    "        return_error=False\n",
    "    )\n",
    "\n",
    "    z_vals = np.array(mic_vals)[:, 2]\n",
    "    plt.plot(z_vals, doa_vals, label=method)\n",
    "    \n",
    "plt.xlabel(\"Elevación fuente (m)\")\n",
    "plt.ylabel(\"Estimación de DOA (°)\")\n",
    "plt.title(\" DOA vs Elevación de la fuente\")\n",
    "plt.grid(True)\n",
    "plt.legend()\n",
    "plt.tight_layout()\n",
    "plt.show()\n",
    "\n"
   ]
  },
  {
   "cell_type": "code",
   "execution_count": 40,
   "metadata": {},
   "outputs": [
    {
     "name": "stdout",
     "output_type": "stream",
     "text": [
      "Procesando: Impulso - classicfft\n",
      "Procesando: Impulso - phat\n"
     ]
    },
    {
     "ename": "KeyboardInterrupt",
     "evalue": "",
     "output_type": "error",
     "traceback": [
      "\u001b[1;31m---------------------------------------------------------------------------\u001b[0m",
      "\u001b[1;31mKeyboardInterrupt\u001b[0m                         Traceback (most recent call last)",
      "\u001b[1;32m<ipython-input-40-deeef97e6d7a>\u001b[0m in \u001b[0;36m<module>\u001b[1;34m\u001b[0m\n\u001b[0;32m     11\u001b[0m     \u001b[0mprint\u001b[0m\u001b[1;33m(\u001b[0m\u001b[1;34mf\"Procesando: {signal_label} - {method}\"\u001b[0m\u001b[1;33m)\u001b[0m\u001b[1;33m\u001b[0m\u001b[1;33m\u001b[0m\u001b[0m\n\u001b[0;32m     12\u001b[0m     \u001b[1;32mtry\u001b[0m\u001b[1;33m:\u001b[0m\u001b[1;33m\u001b[0m\u001b[1;33m\u001b[0m\u001b[0m\n\u001b[1;32m---> 13\u001b[1;33m         x, y = doa.full_doa_pipeline(\n\u001b[0m\u001b[0;32m     14\u001b[0m         \u001b[1;34m\"variacion_source_pos.json\"\u001b[0m\u001b[1;33m,\u001b[0m\u001b[1;33m\u001b[0m\u001b[1;33m\u001b[0m\u001b[0m\n\u001b[0;32m     15\u001b[0m         \u001b[1;34m\"Audios/imp.wav\"\u001b[0m\u001b[1;33m,\u001b[0m\u001b[1;33m\u001b[0m\u001b[1;33m\u001b[0m\u001b[0m\n",
      "\u001b[1;32m~\\Documents\\GitHub\\PERSONAL\\PDS\\doascripts.py\u001b[0m in \u001b[0;36mfull_doa_pipeline\u001b[1;34m(json_path, signal, method, max_tau, c, variable_param, return_error)\u001b[0m\n\u001b[0;32m    518\u001b[0m     \u001b[1;31m# 🌟 NO SE USA true_angle NI n_mics FUERA DEL BUCLE PARA LA LOGICA GLOBAL.\u001b[0m\u001b[1;33m\u001b[0m\u001b[1;33m\u001b[0m\u001b[1;33m\u001b[0m\u001b[0m\n\u001b[0;32m    519\u001b[0m     \u001b[1;31m# 🌟 EN SU LUGAR, SE USAN LAS LISTAS GENERADAS DENTRO DEL BUCLE.\u001b[0m\u001b[1;33m\u001b[0m\u001b[1;33m\u001b[0m\u001b[1;33m\u001b[0m\u001b[0m\n\u001b[1;32m--> 520\u001b[1;33m \u001b[1;33m\u001b[0m\u001b[0m\n\u001b[0m\u001b[0;32m    521\u001b[0m     \u001b[1;31m# Calcular TDOAs y DOAs con cálculo automático de max_tau si no se pasa\u001b[0m\u001b[1;33m\u001b[0m\u001b[1;33m\u001b[0m\u001b[1;33m\u001b[0m\u001b[0m\n\u001b[0;32m    522\u001b[0m     \u001b[1;31m# Se pasa la lista de mic_pairs_list para que cada batch use los pares correctos\u001b[0m\u001b[1;33m\u001b[0m\u001b[1;33m\u001b[0m\u001b[1;33m\u001b[0m\u001b[0m\n",
      "\u001b[1;32m~\\Documents\\GitHub\\PERSONAL\\PDS\\doascripts.py\u001b[0m in \u001b[0;36mbatch_gcc_tdoas\u001b[1;34m(all_signals, fs_list, mic_positions_list, mic_pairs, method, max_tau, c)\u001b[0m\n\u001b[0;32m    327\u001b[0m \u001b[1;33m\u001b[0m\u001b[0m\n\u001b[0;32m    328\u001b[0m         \u001b[1;31m# Ejecutar estimación de TDOA por arrays de simulacion signals (n_mics, n_samples)\u001b[0m\u001b[1;33m\u001b[0m\u001b[1;33m\u001b[0m\u001b[1;33m\u001b[0m\u001b[0m\n\u001b[1;32m--> 329\u001b[1;33m         tdoas = gcc_tdoas(\n\u001b[0m\u001b[0;32m    330\u001b[0m             \u001b[0msignals\u001b[0m\u001b[1;33m,\u001b[0m\u001b[1;33m\u001b[0m\u001b[1;33m\u001b[0m\u001b[0m\n\u001b[0;32m    331\u001b[0m             \u001b[0mfs\u001b[0m\u001b[1;33m,\u001b[0m\u001b[1;33m\u001b[0m\u001b[1;33m\u001b[0m\u001b[0m\n",
      "\u001b[1;32m~\\Documents\\GitHub\\PERSONAL\\PDS\\doascripts.py\u001b[0m in \u001b[0;36mgcc_tdoas\u001b[1;34m(signals, fs, max_tau, method, mic_pairs, c)\u001b[0m\n\u001b[0;32m    188\u001b[0m             \u001b[1;32mraise\u001b[0m \u001b[0mValueError\u001b[0m\u001b[1;33m(\u001b[0m\u001b[1;34mf\"Método desconocido: {method}\"\u001b[0m\u001b[1;33m)\u001b[0m\u001b[1;33m\u001b[0m\u001b[1;33m\u001b[0m\u001b[0m\n\u001b[0;32m    189\u001b[0m \u001b[1;33m\u001b[0m\u001b[0m\n\u001b[1;32m--> 190\u001b[1;33m         \u001b[0mcorr\u001b[0m \u001b[1;33m=\u001b[0m \u001b[0mnp\u001b[0m\u001b[1;33m.\u001b[0m\u001b[0mfft\u001b[0m\u001b[1;33m.\u001b[0m\u001b[0mifft\u001b[0m\u001b[1;33m(\u001b[0m\u001b[0mR\u001b[0m\u001b[1;33m)\u001b[0m\u001b[1;33m.\u001b[0m\u001b[0mreal\u001b[0m\u001b[1;33m\u001b[0m\u001b[1;33m\u001b[0m\u001b[0m\n\u001b[0m\u001b[0;32m    191\u001b[0m         \u001b[0mcorr\u001b[0m \u001b[1;33m=\u001b[0m \u001b[0mnp\u001b[0m\u001b[1;33m.\u001b[0m\u001b[0mfft\u001b[0m\u001b[1;33m.\u001b[0m\u001b[0mfftshift\u001b[0m\u001b[1;33m(\u001b[0m\u001b[0mcorr\u001b[0m\u001b[1;33m)\u001b[0m\u001b[1;33m\u001b[0m\u001b[1;33m\u001b[0m\u001b[0m\n\u001b[0;32m    192\u001b[0m \u001b[1;33m\u001b[0m\u001b[0m\n",
      "\u001b[1;32m<__array_function__ internals>\u001b[0m in \u001b[0;36mifft\u001b[1;34m(*args, **kwargs)\u001b[0m\n",
      "\u001b[1;32m~\\anaconda3\\lib\\site-packages\\numpy\\fft\\_pocketfft.py\u001b[0m in \u001b[0;36mifft\u001b[1;34m(a, n, axis, norm)\u001b[0m\n\u001b[0;32m    279\u001b[0m     \u001b[1;32melse\u001b[0m\u001b[1;33m:\u001b[0m\u001b[1;33m\u001b[0m\u001b[1;33m\u001b[0m\u001b[0m\n\u001b[0;32m    280\u001b[0m         \u001b[0minv_norm\u001b[0m \u001b[1;33m=\u001b[0m \u001b[0mn\u001b[0m\u001b[1;33m\u001b[0m\u001b[1;33m\u001b[0m\u001b[0m\n\u001b[1;32m--> 281\u001b[1;33m     \u001b[0moutput\u001b[0m \u001b[1;33m=\u001b[0m \u001b[0m_raw_fft\u001b[0m\u001b[1;33m(\u001b[0m\u001b[0ma\u001b[0m\u001b[1;33m,\u001b[0m \u001b[0mn\u001b[0m\u001b[1;33m,\u001b[0m \u001b[0maxis\u001b[0m\u001b[1;33m,\u001b[0m \u001b[1;32mFalse\u001b[0m\u001b[1;33m,\u001b[0m \u001b[1;32mFalse\u001b[0m\u001b[1;33m,\u001b[0m \u001b[0minv_norm\u001b[0m\u001b[1;33m)\u001b[0m\u001b[1;33m\u001b[0m\u001b[1;33m\u001b[0m\u001b[0m\n\u001b[0m\u001b[0;32m    282\u001b[0m     \u001b[1;32mreturn\u001b[0m \u001b[0moutput\u001b[0m\u001b[1;33m\u001b[0m\u001b[1;33m\u001b[0m\u001b[0m\n\u001b[0;32m    283\u001b[0m \u001b[1;33m\u001b[0m\u001b[0m\n",
      "\u001b[1;32m~\\anaconda3\\lib\\site-packages\\numpy\\fft\\_pocketfft.py\u001b[0m in \u001b[0;36m_raw_fft\u001b[1;34m(a, n, axis, is_real, is_forward, inv_norm)\u001b[0m\n\u001b[0;32m     72\u001b[0m \u001b[1;33m\u001b[0m\u001b[0m\n\u001b[0;32m     73\u001b[0m     \u001b[1;32mif\u001b[0m \u001b[0maxis\u001b[0m \u001b[1;33m==\u001b[0m \u001b[0ma\u001b[0m\u001b[1;33m.\u001b[0m\u001b[0mndim\u001b[0m\u001b[1;33m-\u001b[0m\u001b[1;36m1\u001b[0m\u001b[1;33m:\u001b[0m\u001b[1;33m\u001b[0m\u001b[1;33m\u001b[0m\u001b[0m\n\u001b[1;32m---> 74\u001b[1;33m         \u001b[0mr\u001b[0m \u001b[1;33m=\u001b[0m \u001b[0mpfi\u001b[0m\u001b[1;33m.\u001b[0m\u001b[0mexecute\u001b[0m\u001b[1;33m(\u001b[0m\u001b[0ma\u001b[0m\u001b[1;33m,\u001b[0m \u001b[0mis_real\u001b[0m\u001b[1;33m,\u001b[0m \u001b[0mis_forward\u001b[0m\u001b[1;33m,\u001b[0m \u001b[0mfct\u001b[0m\u001b[1;33m)\u001b[0m\u001b[1;33m\u001b[0m\u001b[1;33m\u001b[0m\u001b[0m\n\u001b[0m\u001b[0;32m     75\u001b[0m     \u001b[1;32melse\u001b[0m\u001b[1;33m:\u001b[0m\u001b[1;33m\u001b[0m\u001b[1;33m\u001b[0m\u001b[0m\n\u001b[0;32m     76\u001b[0m         \u001b[0ma\u001b[0m \u001b[1;33m=\u001b[0m \u001b[0mswapaxes\u001b[0m\u001b[1;33m(\u001b[0m\u001b[0ma\u001b[0m\u001b[1;33m,\u001b[0m \u001b[0maxis\u001b[0m\u001b[1;33m,\u001b[0m \u001b[1;33m-\u001b[0m\u001b[1;36m1\u001b[0m\u001b[1;33m)\u001b[0m\u001b[1;33m\u001b[0m\u001b[1;33m\u001b[0m\u001b[0m\n",
      "\u001b[1;31mKeyboardInterrupt\u001b[0m: "
     ]
    }
   ],
   "source": [
    "# Señal a usar (solo impulso)\n",
    "signal_file = \"imp.wav\"\n",
    "signal_label = \"Impulso\"\n",
    "\n",
    "# Diccionario para guardar resultados\n",
    "results = {}\n",
    "\n",
    "# Recolectar errores\n",
    "all_errors = []\n",
    "for method in methods:\n",
    "    print(f\"Procesando: {signal_label} - {method}\")\n",
    "    try:\n",
    "        x, y = doa.full_doa_pipeline(\n",
    "        \"variacion_source_pos.json\",\n",
    "        \"Audios/imp.wav\",\n",
    "        method=method,\n",
    "        variable_param=\"source_pos\",\n",
    "        return_error=False\n",
    "        )\n",
    "        all_errors.append(y)  # y es la lista de errores individuales\n",
    "    except Exception as e:\n",
    "        print(f\"Error con {signal_label} - {method}: {e}\")\n",
    "        all_errors.append([np.nan])\n",
    "\n",
    "results[signal_label] = all_errors\n",
    "\n",
    "# Graficar boxplot\n",
    "\n",
    "plt.figure(figsize=(12, 6))\n",
    "\n",
    "data = results[signal_label]\n",
    "positions = np.arange(len(methods))\n",
    "colors = ['#1f77b4', '#ff7f0e', '#2ca02c', '#d62728', '#9467bd']\n",
    "method_patches = []\n",
    "\n",
    "# Crear boxplot\n",
    "box = plt.boxplot(data, positions=positions, widths=0.5, patch_artist=True, showfliers=True)\n",
    "\n",
    "# Colorear cada método distinto\n",
    "for patch, color in zip(box['boxes'], colors):\n",
    "    patch.set_facecolor(color)\n",
    "\n",
    "# Leyenda\n",
    "for i, method in enumerate(methods):\n",
    "    method_patches.append(mpatches.Patch(color=colors[i], label=method))\n",
    "\n",
    "plt.xticks(positions, methods, rotation=0)\n",
    "plt.xlabel(\"Método GCC\")\n",
    "plt.ylabel(\"Error absoluto del DOA (°)\")\n",
    "plt.title(\"Distribución de errores por método (Señal: Impulso)\")\n",
    "plt.grid(True, axis='y', linestyle='--', alpha=0.5)\n",
    "plt.legend(handles=method_patches, title=\"Método\", bbox_to_anchor=(1.02, 1), loc='upper left')\n",
    "plt.tight_layout()\n",
    "plt.savefig(\"Boxplot_source_pos.png\", dpi=300, bbox_inches='tight')\n",
    "plt.show()"
   ]
  },
  {
   "cell_type": "markdown",
   "metadata": {},
   "source": [
    "# Distancia entre mics\n"
   ]
  },
  {
   "cell_type": "code",
   "execution_count": null,
   "metadata": {},
   "outputs": [],
   "source": [
    "plt.figure(figsize=(10,6))\n",
    "\n",
    "for method in methods:\n",
    "    print(f\"Running method: {method}\")\n",
    "    mic_vals, doa_vals = doa.full_doa_pipeline(\n",
    "        \"variacion_distancia_mics.json\",\n",
    "        \"Audios/imp.wav\",\n",
    "        method=method,\n",
    "        variable_param=\"mic_dist\",\n",
    "        return_error=False\n",
    "    )\n",
    "\n",
    "    plt.plot(mic_vals, doa_vals, label=method)\n",
    "\n",
    "plt.xlabel(\"Distancia entre mics (m)\")\n",
    "plt.ylabel(\"Estimación de DOA (°)\")\n",
    "plt.title(\" DOA vs Distancia entre mics\")\n",
    "plt.grid(True)\n",
    "plt.legend()\n",
    "plt.tight_layout()\n",
    "plt.show()\n"
   ]
  },
  {
   "cell_type": "code",
   "execution_count": null,
   "metadata": {},
   "outputs": [],
   "source": [
    "# Señal a usar (solo impulso)\n",
    "signal_file = \"imp.wav\"\n",
    "signal_label = \"Impulso\"\n",
    "\n",
    "# Diccionario para guardar resultados\n",
    "results = {}\n",
    "\n",
    "# Recolectar errores\n",
    "all_errors = []\n",
    "for method in methods:\n",
    "    print(f\"Procesando: {signal_label} - {method}\")\n",
    "    try:\n",
    "        x, y = doa.full_doa_pipeline(\n",
    "        \"variacion_distancia_mics.json\",\n",
    "        \"Audios/imp.wav\",\n",
    "        method=method,\n",
    "        variable_param=\"mic_dist\",\n",
    "        return_error=False\n",
    "        )\n",
    "        all_errors.append(y)  # y es la lista de errores individuales\n",
    "    except Exception as e:\n",
    "        print(f\"Error con {signal_label} - {method}: {e}\")\n",
    "        all_errors.append([np.nan])\n",
    "\n",
    "results[signal_label] = all_errors\n",
    "\n",
    "# Graficar boxplot\n",
    "\n",
    "plt.figure(figsize=(12, 6))\n",
    "\n",
    "data = results[signal_label]\n",
    "positions = np.arange(len(methods))\n",
    "colors = ['#1f77b4', '#ff7f0e', '#2ca02c', '#d62728', '#9467bd']\n",
    "method_patches = []\n",
    "\n",
    "# Crear boxplot\n",
    "box = plt.boxplot(data, positions=positions, widths=0.5, patch_artist=True, showfliers=True)\n",
    "\n",
    "# Colorear cada método distinto\n",
    "for patch, color in zip(box['boxes'], colors):\n",
    "    patch.set_facecolor(color)\n",
    "\n",
    "# Leyenda\n",
    "for i, method in enumerate(methods):\n",
    "    method_patches.append(mpatches.Patch(color=colors[i], label=method))\n",
    "\n",
    "plt.xticks(positions, methods, rotation=0)\n",
    "plt.xlabel(\"Método GCC\")\n",
    "plt.ylabel(\"Error absoluto del DOA (°)\")\n",
    "plt.title(\"Distribución de errores por método (Señal: Impulso)\")\n",
    "plt.grid(True, axis='y', linestyle='--', alpha=0.5)\n",
    "plt.legend(handles=method_patches, title=\"Método\", bbox_to_anchor=(1.02, 1), loc='upper left')\n",
    "plt.tight_layout()\n",
    "plt.savefig(\"Boxplot_mic_dist.png\", dpi=300, bbox_inches='tight')\n",
    "plt.show()"
   ]
  },
  {
   "cell_type": "code",
   "execution_count": null,
   "metadata": {},
   "outputs": [],
   "source": []
  },
  {
   "cell_type": "code",
   "execution_count": null,
   "metadata": {},
   "outputs": [],
   "source": []
  }
 ],
 "metadata": {
  "kernelspec": {
   "display_name": "Python 3",
   "language": "python",
   "name": "python3"
  },
  "language_info": {
   "codemirror_mode": {
    "name": "ipython",
    "version": 3
   },
   "file_extension": ".py",
   "mimetype": "text/x-python",
   "name": "python",
   "nbconvert_exporter": "python",
   "pygments_lexer": "ipython3",
   "version": "3.8.5"
  }
 },
 "nbformat": 4,
 "nbformat_minor": 5
}
