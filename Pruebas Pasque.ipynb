{
 "cells": [
  {
   "cell_type": "code",
   "execution_count": 1,
   "id": "bdb1f2b0",
   "metadata": {},
   "outputs": [],
   "source": [
    "import numpy as np\n",
    "import matplotlib.pyplot as plt\n",
    "from mpl_toolkits.axes_grid1.inset_locator import inset_axes, mark_inset\n",
    "from scipy.signal import correlate\n",
    "import pyroomacoustics as pra\n",
    "import soundfile as sf\n",
    "from IPython.display import Audio\n",
    "from scipy.fft import fft, ifft\n",
    "from scipy.signal import correlate\n",
    "\n",
    "import doascripts as doa\n",
    "import simscripts as sim\n",
    "import plotting as pt\n",
    "import measuring as meas"
   ]
  },
  {
   "cell_type": "markdown",
   "id": "a14b923e",
   "metadata": {},
   "source": [
    "Se define el diccionario base a partir del cual se ajustarán los parámetros pertenecientes a la simulación."
   ]
  },
  {
   "cell_type": "code",
   "execution_count": 4,
   "id": "ea6c07d0",
   "metadata": {},
   "outputs": [
    {
     "data": {
      "text/plain": [
       "{'room_dim': [5, 5, 5],\n",
       " 'rt60': [0.2,\n",
       "  0.21000000000000002,\n",
       "  0.22,\n",
       "  0.23,\n",
       "  0.24000000000000002,\n",
       "  0.25,\n",
       "  0.26,\n",
       "  0.27,\n",
       "  0.28,\n",
       "  0.29000000000000004,\n",
       "  0.30000000000000004,\n",
       "  0.31,\n",
       "  0.32,\n",
       "  0.33,\n",
       "  0.34,\n",
       "  0.35,\n",
       "  0.36,\n",
       "  0.37,\n",
       "  0.38,\n",
       "  0.39,\n",
       "  0.4,\n",
       "  0.41000000000000003,\n",
       "  0.42000000000000004,\n",
       "  0.43000000000000005,\n",
       "  0.44,\n",
       "  0.45,\n",
       "  0.46,\n",
       "  0.47000000000000003,\n",
       "  0.48000000000000004,\n",
       "  0.49,\n",
       "  0.5,\n",
       "  0.51,\n",
       "  0.52,\n",
       "  0.53,\n",
       "  0.54,\n",
       "  0.55,\n",
       "  0.56,\n",
       "  0.5700000000000001,\n",
       "  0.5800000000000001,\n",
       "  0.5900000000000001,\n",
       "  0.6000000000000001,\n",
       "  0.6100000000000001,\n",
       "  0.62,\n",
       "  0.63,\n",
       "  0.64,\n",
       "  0.65,\n",
       "  0.66,\n",
       "  0.67,\n",
       "  0.6799999999999999,\n",
       "  0.69],\n",
       " 'mic_amount': 4,\n",
       " 'mic_start': [1, 1, 1],\n",
       " 'mic_dist': 0.1,\n",
       " 'source_pos': [1, 2.5, 1],\n",
       " 'fs': 48000}"
      ]
     },
     "execution_count": 4,
     "metadata": {},
     "output_type": "execute_result"
    }
   ],
   "source": [
    "dicc_base = {\n",
    "    \"room_dim\": [5, 5, 5], \n",
    "    \"rt60\": 0.2,\n",
    "    \"mic_amount\": 4,\n",
    "    \"mic_start\": [1, 1, 1],\n",
    "    \"mic_dist\": 0.1,\n",
    "    \"source_pos\": [1, 2.5, 1],\n",
    "    \"fs\": 48000}\n",
    "    \n",
    "sim.expand_param(dicc_base, \"rt60\", 0.01, n=50, filename = \"variación_rt60\")"
   ]
  },
  {
   "cell_type": "code",
   "execution_count": 5,
   "id": "e822d13e",
   "metadata": {},
   "outputs": [],
   "source": [
    "param, error_rt60 = doa.full_doa_pipeline(\"variación_rt60.json\", \"Audios/guitar.wav\", method=\"classicfft\", variable_param=\"rt60\")"
   ]
  },
  {
   "cell_type": "code",
   "execution_count": null,
   "id": "96d168cb",
   "metadata": {},
   "outputs": [],
   "source": [
    "pt.plot_signals((param, error_rt60, 1, ))"
   ]
  }
 ],
 "metadata": {
  "kernelspec": {
   "display_name": "Python 3 (ipykernel)",
   "language": "python",
   "name": "python3"
  },
  "language_info": {
   "codemirror_mode": {
    "name": "ipython",
    "version": 3
   },
   "file_extension": ".py",
   "mimetype": "text/x-python",
   "name": "python",
   "nbconvert_exporter": "python",
   "pygments_lexer": "ipython3",
   "version": "3.9.13"
  }
 },
 "nbformat": 4,
 "nbformat_minor": 5
}
