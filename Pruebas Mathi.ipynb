{
 "cells": [
  {
   "cell_type": "code",
   "execution_count": 16,
   "metadata": {},
   "outputs": [],
   "source": [
    "import numpy as np\n",
    "import matplotlib.pyplot as plt\n",
    "from mpl_toolkits.axes_grid1.inset_locator import inset_axes, mark_inset\n",
    "from scipy.signal import correlate\n",
    "import pyroomacoustics as pra\n",
    "import soundfile as sf\n",
    "from IPython.display import Audio\n",
    "from scipy.fft import fft, ifft\n",
    "from scipy.signal import correlate\n",
    "import pandas as pd\n",
    "import seaborn as sns\n",
    "import matplotlib.patches as mpatches\n",
    "\n",
    "\n",
    "import doascripts as doa\n",
    "import simscripts as sim\n",
    "import plotting as pt\n",
    "import measuring as meas"
   ]
  },
  {
   "cell_type": "markdown",
   "metadata": {},
   "source": [
    "# MIC POSITION VARIACION"
   ]
  },
  {
   "cell_type": "code",
   "execution_count": 17,
   "metadata": {},
   "outputs": [],
   "source": [
    "\n",
    "Mic_Pos_1 = {\n",
    "    \"room_dim\": [5, 5, 5], \n",
    "    \"rt60\": 0.2,\n",
    "    \"mic_amount\": 4,\n",
    "    \"mic_start\": [1, 1, 2.5],\n",
    "    \"mic_dist\": 0.1,\n",
    "    \"source_pos\": [2.5, 2.5, 2.5],\n",
    "    \"fs\": 48000,\n",
    "    \"snr\":200}\n",
    "#Aseguro angulo de 90° en inicio"
   ]
  },
  {
   "cell_type": "code",
   "execution_count": 18,
   "metadata": {},
   "outputs": [
    {
     "data": {
      "text/plain": [
       "{'room_dim': [5, 5, 5],\n",
       " 'rt60': 0.2,\n",
       " 'mic_amount': 4,\n",
       " 'mic_start': [[1.0, 1, 2.5],\n",
       "  [1.015, 1, 2.5],\n",
       "  [1.03, 1, 2.5],\n",
       "  [1.045, 1, 2.5],\n",
       "  [1.06, 1, 2.5],\n",
       "  [1.075, 1, 2.5],\n",
       "  [1.09, 1, 2.5],\n",
       "  [1.105, 1, 2.5],\n",
       "  [1.12, 1, 2.5],\n",
       "  [1.135, 1, 2.5],\n",
       "  [1.15, 1, 2.5],\n",
       "  [1.165, 1, 2.5],\n",
       "  [1.18, 1, 2.5],\n",
       "  [1.195, 1, 2.5],\n",
       "  [1.21, 1, 2.5],\n",
       "  [1.225, 1, 2.5],\n",
       "  [1.24, 1, 2.5],\n",
       "  [1.255, 1, 2.5],\n",
       "  [1.27, 1, 2.5],\n",
       "  [1.285, 1, 2.5],\n",
       "  [1.3, 1, 2.5],\n",
       "  [1.315, 1, 2.5],\n",
       "  [1.33, 1, 2.5],\n",
       "  [1.345, 1, 2.5],\n",
       "  [1.3599999999999999, 1, 2.5],\n",
       "  [1.375, 1, 2.5],\n",
       "  [1.3900000000000001, 1, 2.5],\n",
       "  [1.405, 1, 2.5],\n",
       "  [1.42, 1, 2.5],\n",
       "  [1.435, 1, 2.5],\n",
       "  [1.45, 1, 2.5],\n",
       "  [1.4649999999999999, 1, 2.5],\n",
       "  [1.48, 1, 2.5],\n",
       "  [1.495, 1, 2.5],\n",
       "  [1.51, 1, 2.5],\n",
       "  [1.525, 1, 2.5],\n",
       "  [1.54, 1, 2.5],\n",
       "  [1.555, 1, 2.5],\n",
       "  [1.5699999999999998, 1, 2.5],\n",
       "  [1.585, 1, 2.5],\n",
       "  [1.6, 1, 2.5],\n",
       "  [1.615, 1, 2.5],\n",
       "  [1.63, 1, 2.5],\n",
       "  [1.645, 1, 2.5],\n",
       "  [1.66, 1, 2.5],\n",
       "  [1.6749999999999998, 1, 2.5],\n",
       "  [1.69, 1, 2.5],\n",
       "  [1.705, 1, 2.5],\n",
       "  [1.72, 1, 2.5],\n",
       "  [1.7349999999999999, 1, 2.5]],\n",
       " 'mic_dist': 0.1,\n",
       " 'source_pos': [2.5, 2.5, 2.5],\n",
       " 'fs': 48000,\n",
       " 'snr': 200}"
      ]
     },
     "execution_count": 18,
     "metadata": {},
     "output_type": "execute_result"
    }
   ],
   "source": [
    "sim.expand_param(Mic_Pos_1, \"mic_start\", [0.015,0,0], n=50,  filename = \"Mic_Pos1\")"
   ]
  },
  {
   "cell_type": "markdown",
   "metadata": {},
   "source": [
    "Ver si al cambiar la posición del array se mantiene estable el ángulo estimado (como debería), o si algunos métodos se degradan cuando se alejan o acercan al centro."
   ]
  },
  {
   "cell_type": "markdown",
   "metadata": {},
   "source": [
    "El angulo deberia ir aumentando a medida que el microfono empieza a acercarse al centro. serian los primeros 4 metros hasta llegar a la mitad de la sala.\n",
    "\n",
    "Como audio se utilizará un impulso"
   ]
  },
  {
   "cell_type": "code",
   "execution_count": 19,
   "metadata": {},
   "outputs": [],
   "source": [
    "x,y= doa.full_doa_pipeline(\"Mic_Pos1.json\",\"Audios/imp.wav\", method=\"classicfft\", variable_param=\"mic_start\",return_error=False)\n"
   ]
  },
  {
   "cell_type": "code",
   "execution_count": 20,
   "metadata": {},
   "outputs": [
    {
     "data": {
      "image/png": "[encoded data removed]",
      "text/plain": [
       "<Figure size 576x360 with 1 Axes>"
      ]
     },
     "metadata": {
      "needs_background": "light"
     },
     "output_type": "display_data"
    },
    {
     "name": "stdout",
     "output_type": "stream",
     "text": [
      "[46.6, 46.6, 46.6, 47.2, 47.2, 49.07, 49.97, 49.97, 49.97, 50.56, 50.56, 50.56, 50.56, 50.56, 52.01, 52.01, 52.01, 52.01, 52.57, 52.57, 52.57, 55.13, 55.13, 55.68, 55.68, 55.68, 55.68, 57.04, 57.04, 57.04, 57.04, 57.57, 57.57, 58.37, 60.51, 60.51, 60.51, 60.51, 61.02, 61.8, 61.8, 62.31, 62.31, 62.31, 63.57, 65.11, 65.11, 65.11, 65.61, 66.36]\n"
     ]
    }
   ],
   "source": [
    "x_coords = [pos[0] for pos in x] \n",
    "plt.figure(figsize=(8, 5))\n",
    "plt.plot(x_coords, y, marker='o')\n",
    "plt.xlabel(\"Posición X de la fuente (m)\")\n",
    "plt.ylabel(\"Ángulo estimado de llegada (°)\")\n",
    "plt.title(\"Evolución del DOA según la posición X de la fuente\")\n",
    "plt.grid(True)\n",
    "plt.show()\n",
    "\n",
    "print(y)"
   ]
  },
  {
   "cell_type": "markdown",
   "metadata": {},
   "source": [
    "Perfecto, Automatizamos y observamos como se desempeñan los distintos algoritmos."
   ]
  },
  {
   "cell_type": "code",
   "execution_count": 21,
   "metadata": {},
   "outputs": [],
   "source": [
    "methods = [  # correlación cruzada directa en el dominio temporal\n",
    "    \"classicfft\",   # correlación cruzada clásica vía FFT\n",
    "    \"phat\",         # GCC con ponderación PHAT\n",
    "    \"scot\",         # GCC con ponderación SCOT\n",
    "    \"roth\",         # GCC con ponderación Roth         \n",
    "    \"ml\"            # GCC con ponderación de máxima verosimilitud (ML)\n",
    "]"
   ]
  },
  {
   "cell_type": "code",
   "execution_count": 22,
   "metadata": {},
   "outputs": [
    {
     "name": "stdout",
     "output_type": "stream",
     "text": [
      "Running method: classicfft\n",
      "Running method: phat\n",
      "Running method: scot\n",
      "Running method: roth\n",
      "Running method: ml\n"
     ]
    },
    {
     "data": {
      "image/png": "[encoded data removed]",
      "text/plain": [
       "<Figure size 720x432 with 1 Axes>"
      ]
     },
     "metadata": {
      "needs_background": "light"
     },
     "output_type": "display_data"
    }
   ],
   "source": [
    "methods = [\n",
    "    \"classicfft\",\n",
    "    \"phat\",\n",
    "    \"scot\",\n",
    "    \"roth\",\n",
    "    \"ml\"\n",
    "]\n",
    "\n",
    "plt.figure(figsize=(10,6))\n",
    "\n",
    "for method in methods:\n",
    "    print(f\"Running method: {method}\")\n",
    "    mic_vals, doa_vals = doa.full_doa_pipeline(\n",
    "        \"Mic_Pos1.json\",\n",
    "        \"Audios/imp.wav\",\n",
    "        method=method,\n",
    "        variable_param=\"mic_start\",\n",
    "        return_error=False\n",
    "    )\n",
    "\n",
    "    plt.plot(mic_vals, doa_vals, label=method)\n",
    "\n",
    "plt.xlabel(\"Cantidad de micrófonos\")\n",
    "plt.axhline(y=45, color='gray', linestyle='--', label='Ángulo real 45°')\n",
    "plt.ylabel(\"Estimación de DOA (°)\")\n",
    "plt.title(\" DOA vs cantidad de micrófonos\")\n",
    "plt.grid(True)\n",
    "plt.legend()\n",
    "plt.tight_layout()\n",
    "plt.show()\n"
   ]
  },
  {
   "cell_type": "code",
   "execution_count": 8,
   "metadata": {},
   "outputs": [
    {
     "data": {
      "image/png": "[encoded data removed]",
      "text/plain": [
       "<Figure size 720x432 with 1 Axes>"
      ]
     },
     "metadata": {
      "needs_background": "light"
     },
     "output_type": "display_data"
    }
   ],
   "source": [
    "plt.figure(figsize=(10, 6))\n",
    "\n",
    "for method, (x_vals, doa_vals) in results.items():\n",
    "    plt.plot(x_vals, doa_vals, label=method)\n",
    "\n",
    "plt.xlabel(\"Posición X del array de micrófonos (m)\")\n",
    "plt.ylabel(\"Ángulo estimado de llegada (°)\")\n",
    "plt.title(\"Comparación de DOA estimado por método\")\n",
    "plt.grid(True)\n",
    "plt.legend()\n",
    "plt.tight_layout()\n",
    "plt.show()"
   ]
  },
  {
   "cell_type": "markdown",
   "metadata": {},
   "source": [
    "Ahora busco graficar errores."
   ]
  },
  {
   "cell_type": "code",
   "execution_count": 9,
   "metadata": {},
   "outputs": [
    {
     "name": "stdout",
     "output_type": "stream",
     "text": [
      "Procesando: Impulso - classicfft\n",
      "Procesando: Impulso - phat\n",
      "Procesando: Impulso - scot\n",
      "Procesando: Impulso - roth\n",
      "Procesando: Impulso - ml\n"
     ]
    }
   ],
   "source": [
    "import matplotlib.pyplot as plt\n",
    "import matplotlib.patches as mpatches\n",
    "import numpy as np\n",
    "\n",
    "# Señal a usar (solo impulso)\n",
    "signal_file = \"imp.wav\"\n",
    "signal_label = \"Impulso\"\n",
    "\n",
    "# Métodos a usar\n",
    "methods = [\n",
    "    \"classicfft\",\n",
    "    \"phat\", \"scot\", \"roth\", \n",
    "    \"ml\"\n",
    "]\n",
    "\n",
    "# Diccionario para guardar resultados\n",
    "results = {}\n",
    "\n",
    "# Recolectar errores\n",
    "all_errors = []\n",
    "for method in methods:\n",
    "    print(f\"Procesando: {signal_label} - {method}\")\n",
    "    try:\n",
    "        x, y = doa.full_doa_pipeline(\n",
    "            \"Mic_Pos1.json\", \n",
    "            f\"Audios/{signal_file}\",\n",
    "            method=method,\n",
    "            variable_param=\"mic_start\",\n",
    "            return_error=True\n",
    "        )\n",
    "        all_errors.append(y)  # y es la lista de errores individuales\n",
    "    except Exception as e:\n",
    "        print(f\"Error con {signal_label} - {method}: {e}\")\n",
    "        all_errors.append([np.nan])\n",
    "\n",
    "results[signal_label] = all_errors\n"
   ]
  },
  {
   "cell_type": "code",
   "execution_count": 10,
   "metadata": {},
   "outputs": [
    {
     "data": {
      "image/png": "[encoded data removed]",
      "text/plain": [
       "<Figure size 864x432 with 1 Axes>"
      ]
     },
     "metadata": {
      "needs_background": "light"
     },
     "output_type": "display_data"
    }
   ],
   "source": [
    "# Graficar boxplot\n",
    "\n",
    "plt.figure(figsize=(12, 6))\n",
    "\n",
    "data = results[signal_label]\n",
    "positions = np.arange(len(methods))\n",
    "colors = ['#1f77b4', '#ff7f0e', '#2ca02c', '#d62728', '#9467bd']\n",
    "method_patches = []\n",
    "\n",
    "# Crear boxplot\n",
    "box = plt.boxplot(data, positions=positions, widths=0.5, patch_artist=True, showfliers=True)\n",
    "\n",
    "# Colorear cada método distinto\n",
    "for patch, color in zip(box['boxes'], colors):\n",
    "    patch.set_facecolor(color)\n",
    "\n",
    "# Leyenda\n",
    "for i, method in enumerate(methods):\n",
    "    method_patches.append(mpatches.Patch(color=colors[i], label=method))\n",
    "\n",
    "plt.xticks(positions, methods, rotation=0)\n",
    "plt.xlabel(\"Método GCC\")\n",
    "plt.ylabel(\"Error absoluto del DOA (°)\")\n",
    "plt.title(\"Distribución de errores por método (Señal: Impulso)\")\n",
    "plt.grid(True, axis='y', linestyle='--', alpha=0.5)\n",
    "plt.legend(handles=method_patches, title=\"Método\", bbox_to_anchor=(1.02, 1), loc='upper left')\n",
    "plt.tight_layout()\n",
    "plt.savefig(\"Boxplot_mic_start.png\", dpi=300, bbox_inches='tight')\n",
    "plt.show()"
   ]
  },
  {
   "cell_type": "markdown",
   "metadata": {},
   "source": [
    "metodo franco"
   ]
  },
  {
   "cell_type": "markdown",
   "metadata": {},
   "source": [
    "No podés hacer boxplot con ese results porque guardás solo los promedios y desviaciones, no los errores individuales necesarios para la distribución del boxplot.\n",
    "\n",
    "El boxplot necesita la lista completa de errores y para cada método, no un solo valor resumen."
   ]
  },
  {
   "cell_type": "code",
   "execution_count": 11,
   "metadata": {},
   "outputs": [
    {
     "name": "stdout",
     "output_type": "stream",
     "text": [
      "Procesando: Impulso - classicfft\n"
     ]
    },
    {
     "ename": "KeyboardInterrupt",
     "evalue": "",
     "output_type": "error",
     "traceback": [
      "\u001b[1;31m---------------------------------------------------------------------------\u001b[0m",
      "\u001b[1;31mKeyboardInterrupt\u001b[0m                         Traceback (most recent call last)",
      "\u001b[1;32m<ipython-input-11-09b03b0c4efc>\u001b[0m in \u001b[0;36m<module>\u001b[1;34m\u001b[0m\n\u001b[0;32m      7\u001b[0m     \u001b[0mprint\u001b[0m\u001b[1;33m(\u001b[0m\u001b[1;34mf\"Procesando: {signal_label} - {method}\"\u001b[0m\u001b[1;33m)\u001b[0m\u001b[1;33m\u001b[0m\u001b[1;33m\u001b[0m\u001b[0m\n\u001b[0;32m      8\u001b[0m     \u001b[1;32mtry\u001b[0m\u001b[1;33m:\u001b[0m\u001b[1;33m\u001b[0m\u001b[1;33m\u001b[0m\u001b[0m\n\u001b[1;32m----> 9\u001b[1;33m         x, y = doa.full_doa_pipeline(\n\u001b[0m\u001b[0;32m     10\u001b[0m             \u001b[1;34m\"Mic_Pos1.json\"\u001b[0m\u001b[1;33m,\u001b[0m\u001b[1;33m\u001b[0m\u001b[1;33m\u001b[0m\u001b[0m\n\u001b[0;32m     11\u001b[0m             \u001b[1;34mf\"Audios/{signal_file}\"\u001b[0m\u001b[1;33m,\u001b[0m\u001b[1;33m\u001b[0m\u001b[1;33m\u001b[0m\u001b[0m\n",
      "\u001b[1;32m~\\Documents\\GitHub\\PERSONAL\\PDS\\doascripts.py\u001b[0m in \u001b[0;36mfull_doa_pipeline\u001b[1;34m(json_path, signal, mic_pairs, method, max_tau, c, variable_param, return_error)\u001b[0m\n\u001b[0;32m    498\u001b[0m             \u001b[0msignals\u001b[0m \u001b[1;33m=\u001b[0m \u001b[0mroom\u001b[0m\u001b[1;33m.\u001b[0m\u001b[0mmic_array\u001b[0m\u001b[1;33m.\u001b[0m\u001b[0msignals\u001b[0m\u001b[1;33m\u001b[0m\u001b[1;33m\u001b[0m\u001b[0m\n\u001b[0;32m    499\u001b[0m \u001b[1;33m\u001b[0m\u001b[0m\n\u001b[1;32m--> 500\u001b[1;33m             \u001b[1;31m# Agrega ruido con el SNR especificado\u001b[0m\u001b[1;33m\u001b[0m\u001b[1;33m\u001b[0m\u001b[1;33m\u001b[0m\u001b[0m\n\u001b[0m\u001b[0;32m    501\u001b[0m             \u001b[0msignals\u001b[0m \u001b[1;33m=\u001b[0m \u001b[0mgen\u001b[0m\u001b[1;33m.\u001b[0m\u001b[0madd_awgn\u001b[0m\u001b[1;33m(\u001b[0m\u001b[0msignals\u001b[0m\u001b[1;33m,\u001b[0m \u001b[0msnr\u001b[0m\u001b[1;33m)\u001b[0m\u001b[1;33m\u001b[0m\u001b[1;33m\u001b[0m\u001b[0m\n\u001b[0;32m    502\u001b[0m \u001b[1;33m\u001b[0m\u001b[0m\n",
      "\u001b[1;32m~\\Documents\\GitHub\\PERSONAL\\PDS\\doascripts.py\u001b[0m in \u001b[0;36mbatch_gcc_tdoas\u001b[1;34m(all_signals, fs_list, mic_positions_list, mic_pairs, method, max_tau, c)\u001b[0m\n\u001b[0;32m    312\u001b[0m             \u001b[1;31m# Asegurar que los pares estén dentro de rango\u001b[0m\u001b[1;33m\u001b[0m\u001b[1;33m\u001b[0m\u001b[1;33m\u001b[0m\u001b[0m\n\u001b[0;32m    313\u001b[0m             \u001b[1;32mtry\u001b[0m\u001b[1;33m:\u001b[0m\u001b[1;33m\u001b[0m\u001b[1;33m\u001b[0m\u001b[0m\n\u001b[1;32m--> 314\u001b[1;33m                 max_dist = max(\n\u001b[0m\u001b[0;32m    315\u001b[0m                     \u001b[0mnp\u001b[0m\u001b[1;33m.\u001b[0m\u001b[0mlinalg\u001b[0m\u001b[1;33m.\u001b[0m\u001b[0mnorm\u001b[0m\u001b[1;33m(\u001b[0m\u001b[0mmic_pos\u001b[0m\u001b[1;33m[\u001b[0m\u001b[1;33m:\u001b[0m\u001b[1;33m,\u001b[0m \u001b[0mi\u001b[0m\u001b[1;33m]\u001b[0m \u001b[1;33m-\u001b[0m \u001b[0mmic_pos\u001b[0m\u001b[1;33m[\u001b[0m\u001b[1;33m:\u001b[0m\u001b[1;33m,\u001b[0m \u001b[0mj\u001b[0m\u001b[1;33m]\u001b[0m\u001b[1;33m)\u001b[0m\u001b[1;33m\u001b[0m\u001b[1;33m\u001b[0m\u001b[0m\n\u001b[0;32m    316\u001b[0m                     \u001b[1;32mfor\u001b[0m \u001b[0mi\u001b[0m\u001b[1;33m,\u001b[0m \u001b[0mj\u001b[0m \u001b[1;32min\u001b[0m \u001b[0mmic_pairs\u001b[0m\u001b[1;33m\u001b[0m\u001b[1;33m\u001b[0m\u001b[0m\n",
      "\u001b[1;32m~\\Documents\\GitHub\\PERSONAL\\PDS\\doascripts.py\u001b[0m in \u001b[0;36mgcc_tdoas\u001b[1;34m(signals, fs, max_tau, method, mic_pairs, c)\u001b[0m\n\u001b[0;32m    187\u001b[0m         \u001b[1;32melse\u001b[0m\u001b[1;33m:\u001b[0m\u001b[1;33m\u001b[0m\u001b[1;33m\u001b[0m\u001b[0m\n\u001b[0;32m    188\u001b[0m             \u001b[1;32mraise\u001b[0m \u001b[0mValueError\u001b[0m\u001b[1;33m(\u001b[0m\u001b[1;34mf\"Método desconocido: {method}\"\u001b[0m\u001b[1;33m)\u001b[0m\u001b[1;33m\u001b[0m\u001b[1;33m\u001b[0m\u001b[0m\n\u001b[1;32m--> 189\u001b[1;33m \u001b[1;33m\u001b[0m\u001b[0m\n\u001b[0m\u001b[0;32m    190\u001b[0m         \u001b[0mcorr\u001b[0m \u001b[1;33m=\u001b[0m \u001b[0mnp\u001b[0m\u001b[1;33m.\u001b[0m\u001b[0mfft\u001b[0m\u001b[1;33m.\u001b[0m\u001b[0mifft\u001b[0m\u001b[1;33m(\u001b[0m\u001b[0mR\u001b[0m\u001b[1;33m)\u001b[0m\u001b[1;33m.\u001b[0m\u001b[0mreal\u001b[0m\u001b[1;33m\u001b[0m\u001b[1;33m\u001b[0m\u001b[0m\n\u001b[0;32m    191\u001b[0m         \u001b[0mcorr\u001b[0m \u001b[1;33m=\u001b[0m \u001b[0mnp\u001b[0m\u001b[1;33m.\u001b[0m\u001b[0mfft\u001b[0m\u001b[1;33m.\u001b[0m\u001b[0mfftshift\u001b[0m\u001b[1;33m(\u001b[0m\u001b[0mcorr\u001b[0m\u001b[1;33m)\u001b[0m\u001b[1;33m\u001b[0m\u001b[1;33m\u001b[0m\u001b[0m\n",
      "\u001b[1;32m<__array_function__ internals>\u001b[0m in \u001b[0;36mifft\u001b[1;34m(*args, **kwargs)\u001b[0m\n",
      "\u001b[1;32m~\\anaconda3\\lib\\site-packages\\numpy\\fft\\_pocketfft.py\u001b[0m in \u001b[0;36mifft\u001b[1;34m(a, n, axis, norm)\u001b[0m\n\u001b[0;32m    279\u001b[0m     \u001b[1;32melse\u001b[0m\u001b[1;33m:\u001b[0m\u001b[1;33m\u001b[0m\u001b[1;33m\u001b[0m\u001b[0m\n\u001b[0;32m    280\u001b[0m         \u001b[0minv_norm\u001b[0m \u001b[1;33m=\u001b[0m \u001b[0mn\u001b[0m\u001b[1;33m\u001b[0m\u001b[1;33m\u001b[0m\u001b[0m\n\u001b[1;32m--> 281\u001b[1;33m     \u001b[0moutput\u001b[0m \u001b[1;33m=\u001b[0m \u001b[0m_raw_fft\u001b[0m\u001b[1;33m(\u001b[0m\u001b[0ma\u001b[0m\u001b[1;33m,\u001b[0m \u001b[0mn\u001b[0m\u001b[1;33m,\u001b[0m \u001b[0maxis\u001b[0m\u001b[1;33m,\u001b[0m \u001b[1;32mFalse\u001b[0m\u001b[1;33m,\u001b[0m \u001b[1;32mFalse\u001b[0m\u001b[1;33m,\u001b[0m \u001b[0minv_norm\u001b[0m\u001b[1;33m)\u001b[0m\u001b[1;33m\u001b[0m\u001b[1;33m\u001b[0m\u001b[0m\n\u001b[0m\u001b[0;32m    282\u001b[0m     \u001b[1;32mreturn\u001b[0m \u001b[0moutput\u001b[0m\u001b[1;33m\u001b[0m\u001b[1;33m\u001b[0m\u001b[0m\n\u001b[0;32m    283\u001b[0m \u001b[1;33m\u001b[0m\u001b[0m\n",
      "\u001b[1;32m~\\anaconda3\\lib\\site-packages\\numpy\\fft\\_pocketfft.py\u001b[0m in \u001b[0;36m_raw_fft\u001b[1;34m(a, n, axis, is_real, is_forward, inv_norm)\u001b[0m\n\u001b[0;32m     72\u001b[0m \u001b[1;33m\u001b[0m\u001b[0m\n\u001b[0;32m     73\u001b[0m     \u001b[1;32mif\u001b[0m \u001b[0maxis\u001b[0m \u001b[1;33m==\u001b[0m \u001b[0ma\u001b[0m\u001b[1;33m.\u001b[0m\u001b[0mndim\u001b[0m\u001b[1;33m-\u001b[0m\u001b[1;36m1\u001b[0m\u001b[1;33m:\u001b[0m\u001b[1;33m\u001b[0m\u001b[1;33m\u001b[0m\u001b[0m\n\u001b[1;32m---> 74\u001b[1;33m         \u001b[0mr\u001b[0m \u001b[1;33m=\u001b[0m \u001b[0mpfi\u001b[0m\u001b[1;33m.\u001b[0m\u001b[0mexecute\u001b[0m\u001b[1;33m(\u001b[0m\u001b[0ma\u001b[0m\u001b[1;33m,\u001b[0m \u001b[0mis_real\u001b[0m\u001b[1;33m,\u001b[0m \u001b[0mis_forward\u001b[0m\u001b[1;33m,\u001b[0m \u001b[0mfct\u001b[0m\u001b[1;33m)\u001b[0m\u001b[1;33m\u001b[0m\u001b[1;33m\u001b[0m\u001b[0m\n\u001b[0m\u001b[0;32m     75\u001b[0m     \u001b[1;32melse\u001b[0m\u001b[1;33m:\u001b[0m\u001b[1;33m\u001b[0m\u001b[1;33m\u001b[0m\u001b[0m\n\u001b[0;32m     76\u001b[0m         \u001b[0ma\u001b[0m \u001b[1;33m=\u001b[0m \u001b[0mswapaxes\u001b[0m\u001b[1;33m(\u001b[0m\u001b[0ma\u001b[0m\u001b[1;33m,\u001b[0m \u001b[0maxis\u001b[0m\u001b[1;33m,\u001b[0m \u001b[1;33m-\u001b[0m\u001b[1;36m1\u001b[0m\u001b[1;33m)\u001b[0m\u001b[1;33m\u001b[0m\u001b[1;33m\u001b[0m\u001b[0m\n",
      "\u001b[1;31mKeyboardInterrupt\u001b[0m: "
     ]
    }
   ],
   "source": [
    "# Diccionario para guardar resultados\n",
    "results = {}\n",
    "mean_errors = []\n",
    "std_errors = []\n",
    "\n",
    "for method in methods:\n",
    "    print(f\"Procesando: {signal_label} - {method}\")\n",
    "    try:\n",
    "        x, y = doa.full_doa_pipeline(\n",
    "            \"Mic_Pos1.json\", \n",
    "            f\"Audios/{signal_file}\",\n",
    "            method=method,\n",
    "            variable_param=\"mic_start\",\n",
    "            return_error=True\n",
    "        )\n",
    "        mean_errors.append(np.mean(y))\n",
    "        std_errors.append(np.std(y))\n",
    "    except Exception as e:\n",
    "        print(f\"Error con {signal_label} - {method}: {e}\")\n",
    "        mean_errors.append(np.nan)\n",
    "        std_errors.append(np.nan)\n",
    "\n",
    "results = {signal_label: (mean_errors, std_errors)}"
   ]
  },
  {
   "cell_type": "code",
   "execution_count": null,
   "metadata": {},
   "outputs": [],
   "source": [
    "n_signals = 1  # solo una señal\n",
    "n_methods = len(methods)\n",
    "bar_width = 0.12\n",
    "\n",
    "group_centers = np.array([0])  # posición única para la única señal\n",
    "method_offsets = (np.arange(n_methods) - (n_methods - 1) / 2) * bar_width\n",
    "\n",
    "plt.figure(figsize=(12, 6))\n",
    "\n",
    "for i, method in enumerate(methods):\n",
    "    # En results, la estructura es: results[signal_label] = (mean_errors, std_errors)\n",
    "    mean_errors = results[signal_label][0]\n",
    "    std_errors = results[signal_label][1]\n",
    "    \n",
    "    # Posición de cada barra para el método i\n",
    "    bar_pos = group_centers + method_offsets[i]\n",
    "    \n",
    "    plt.bar(bar_pos, mean_errors[i:i+1], width=bar_width, yerr=std_errors[i:i+1], capsize=4, label=method)\n",
    "\n",
    "# Etiqueta del eje X: un solo tick centrado\n",
    "plt.xticks(group_centers, [signal_label])\n",
    "plt.xlabel(\"Tipo de señal\")\n",
    "plt.ylabel(\"Error medio absoluto del DOA (°)\")\n",
    "plt.title(\"Variación micpos\")\n",
    "plt.grid(True, axis='y', linestyle='--', alpha=0.5)\n",
    "plt.legend(title=\"Método GCC\", bbox_to_anchor=(1.05, 1), loc='upper left')\n",
    "plt.tight_layout()\n",
    "plt.savefig(\"pos.png\", dpi=300, bbox_inches='tight')\n",
    "\n",
    "plt.show()\n"
   ]
  },
  {
   "cell_type": "markdown",
   "metadata": {},
   "source": [
    "# DISTANCIA ENTRE MICS\n"
   ]
  },
  {
   "cell_type": "code",
   "execution_count": 3,
   "metadata": {},
   "outputs": [
    {
     "data": {
      "text/plain": [
       "{'room_dim': [5, 5, 5],\n",
       " 'rt60': 0.2,\n",
       " 'mic_amount': 4,\n",
       " 'mic_start': [1, 1, 2.5],\n",
       " 'mic_dist': [0.05,\n",
       "  0.052041,\n",
       "  0.054082,\n",
       "  0.056122,\n",
       "  0.058163,\n",
       "  0.060204,\n",
       "  0.062245,\n",
       "  0.064286,\n",
       "  0.066327,\n",
       "  0.068367,\n",
       "  0.070408,\n",
       "  0.072449,\n",
       "  0.07449,\n",
       "  0.076531,\n",
       "  0.078571,\n",
       "  0.080612,\n",
       "  0.082653,\n",
       "  0.084694,\n",
       "  0.086735,\n",
       "  0.088776,\n",
       "  0.090816,\n",
       "  0.092857,\n",
       "  0.094898,\n",
       "  0.096939,\n",
       "  0.09898,\n",
       "  0.10102,\n",
       "  0.103061,\n",
       "  0.105102,\n",
       "  0.107143,\n",
       "  0.109184,\n",
       "  0.111224,\n",
       "  0.113265,\n",
       "  0.115306,\n",
       "  0.117347,\n",
       "  0.119388,\n",
       "  0.121429,\n",
       "  0.123469,\n",
       "  0.12551,\n",
       "  0.127551,\n",
       "  0.129592,\n",
       "  0.131633,\n",
       "  0.133673,\n",
       "  0.135714,\n",
       "  0.137755,\n",
       "  0.139796,\n",
       "  0.141837,\n",
       "  0.143878,\n",
       "  0.145918,\n",
       "  0.147959,\n",
       "  0.15],\n",
       " 'source_pos': [2.5, 2.5, 2.5],\n",
       " 'fs': 48000,\n",
       " 'snr': 200}"
      ]
     },
     "execution_count": 3,
     "metadata": {},
     "output_type": "execute_result"
    }
   ],
   "source": [
    "sim.expand_param(Mic_Pos_1, \"mic_dist\", [0.05,0.15], n=50,  filename = \"Mic_dist1\")"
   ]
  },
  {
   "cell_type": "code",
   "execution_count": 4,
   "metadata": {},
   "outputs": [],
   "source": [
    "x,y= doa.full_doa_pipeline(\"Mic_dist1.json\",\"Audios/imp.wav\", method=\"classicfft\", variable_param=\"mic_dist\",return_error=False)\n"
   ]
  },
  {
   "cell_type": "code",
   "execution_count": 5,
   "metadata": {},
   "outputs": [
    {
     "data": {
      "image/png": "[encoded data removed]",
      "text/plain": [
       "<Figure size 576x360 with 1 Axes>"
      ]
     },
     "metadata": {
      "needs_background": "light"
     },
     "output_type": "display_data"
    }
   ],
   "source": [
    "plt.figure(figsize=(8, 5))\n",
    "plt.plot(x, y, marker='o')\n",
    "plt.xlabel(\"Distancia entre micrófonos (m)\")\n",
    "plt.ylabel(\"Ángulo estimado de llegada (°)\")\n",
    "plt.title(\"DOA estimado según la distancia entre micrófonos\")\n",
    "plt.grid(True)\n",
    "plt.show()"
   ]
  },
  {
   "cell_type": "code",
   "execution_count": null,
   "metadata": {},
   "outputs": [],
   "source": [
    "results_doa = {}  # Para guardar ángulos por método\n",
    "\n",
    "for method in methods:\n",
    "    try:\n",
    "        print(f\"Ejecutando método: {method}\")\n",
    "        x, y = doa.full_doa_pipeline(\n",
    "            \"Mic_Dist1.json\", \n",
    "            f\"Audios/{signal_file}\", \n",
    "            method=method, \n",
    "            variable_param=\"mic_dist\", \n",
    "            return_error=False\n",
    "        )\n",
    "        results_doa[method] = (x, y)\n",
    "    except Exception as e:\n",
    "        print(f\"Error con el método {method}: {e}\")\n"
   ]
  },
  {
   "cell_type": "code",
   "execution_count": null,
   "metadata": {},
   "outputs": [],
   "source": [
    "plt.figure(figsize=(10, 6))\n",
    "for method, (x_vals, doa_vals) in results_doa.items():\n",
    "    plt.plot(x_vals, doa_vals, marker='o', label=method)\n",
    "\n",
    "plt.xlabel(\"Distancia entre micrófonos (m)\")\n",
    "plt.ylabel(\"Ángulo estimado de llegada (°)\")\n",
    "plt.title(\"Comparación de DOA estimado según distancia entre micrófonos\")\n",
    "plt.grid(True)\n",
    "plt.legend()\n",
    "plt.tight_layout()\n",
    "plt.savefig(\"DOA_vs_micdist.png\", dpi=300, bbox_inches='tight')\n",
    "plt.show()"
   ]
  },
  {
   "cell_type": "code",
   "execution_count": null,
   "metadata": {},
   "outputs": [],
   "source": [
    "# Diccionario para guardar errores\n",
    "results_errors = {}\n",
    "all_errors = []\n",
    "\n",
    "for method in methods:\n",
    "    print(f\"Procesando errores: {signal_label} - {method}\")\n",
    "    try:\n",
    "        x, y = doa.full_doa_pipeline(\n",
    "            \"Mic_Dist1.json\", \n",
    "            f\"Audios/{signal_file}\",\n",
    "            method=method,\n",
    "            variable_param=\"mic_dist\",\n",
    "            return_error=True\n",
    "        )\n",
    "        all_errors.append(y)  # y = lista de errores por distancia\n",
    "    except Exception as e:\n",
    "        print(f\"Error con {signal_label} - {method}: {e}\")\n",
    "        all_errors.append([np.nan])\n",
    "\n",
    "results_errors[signal_label] = all_errors\n",
    "\n",
    "# Boxplot de errores\n",
    "plt.figure(figsize=(12, 6))\n",
    "\n",
    "data = results_errors[signal_label]\n",
    "positions = np.arange(len(methods))\n",
    "colors = ['#1f77b4', '#ff7f0e', '#2ca02c', '#d62728', '#9467bd']\n",
    "method_patches = []\n",
    "\n",
    "box = plt.boxplot(data, positions=positions, widths=0.5, patch_artist=True, showfliers=True)\n",
    "\n",
    "for patch, color in zip(box['boxes'], colors):\n",
    "    patch.set_facecolor(color)\n",
    "\n",
    "# Leyenda\n",
    "for i, method in enumerate(methods):\n",
    "    method_patches.append(mpatches.Patch(color=colors[i], label=method))\n",
    "\n",
    "plt.xticks(positions, methods)\n",
    "plt.xlabel(\"Método GCC\")\n",
    "plt.ylabel(\"Error absoluto del DOA (°)\")\n",
    "plt.title(\"Distribución de errores por método - Variación mic_dist (Señal: Impulso)\")\n",
    "plt.grid(True, axis='y', linestyle='--', alpha=0.5)\n",
    "plt.legend(handles=method_patches, title=\"Método\", bbox_to_anchor=(1.02, 1), loc='upper left')\n",
    "plt.tight_layout()\n",
    "plt.savefig(\"Boxplot_micdist.png\", dpi=300, bbox_inches='tight')\n",
    "plt.show()"
   ]
  },
  {
   "cell_type": "markdown",
   "metadata": {},
   "source": [
    "# Cantidad de MICS"
   ]
  },
  {
   "cell_type": "code",
   "execution_count": 11,
   "metadata": {},
   "outputs": [
    {
     "data": {
      "text/plain": [
       "{'room_dim': [5, 5, 5],\n",
       " 'rt60': 0.2,\n",
       " 'mic_amount': [2.0,\n",
       "  3.0,\n",
       "  4.0,\n",
       "  5.0,\n",
       "  6.0,\n",
       "  7.0,\n",
       "  8.0,\n",
       "  9.0,\n",
       "  10.0,\n",
       "  11.0,\n",
       "  12.0,\n",
       "  13.0,\n",
       "  14.0,\n",
       "  15.0,\n",
       "  16.0,\n",
       "  17.0,\n",
       "  18.0,\n",
       "  19.0,\n",
       "  20.0,\n",
       "  21.0,\n",
       "  22.0,\n",
       "  23.0,\n",
       "  24.0,\n",
       "  25.0,\n",
       "  26.0,\n",
       "  27.0,\n",
       "  28.0,\n",
       "  29.0,\n",
       "  30.0],\n",
       " 'mic_start': [1, 1, 2.5],\n",
       " 'mic_dist': 0.1,\n",
       " 'source_pos': [2.5, 2.5, 2.5],\n",
       " 'fs': 48000,\n",
       " 'snr': 200}"
      ]
     },
     "execution_count": 11,
     "metadata": {},
     "output_type": "execute_result"
    }
   ],
   "source": [
    "sim.expand_param(Mic_Pos_1, \"mic_amount\", [2,30], n=29,  filename = \"Mic_amount1\")\n"
   ]
  },
  {
   "cell_type": "code",
   "execution_count": 7,
   "metadata": {},
   "outputs": [
    {
     "name": "stdout",
     "output_type": "stream",
     "text": [
      "Ejecutando método: classicfft\n",
      "Ejecutando método: phat\n",
      "Ejecutando método: scot\n",
      "Ejecutando método: roth\n",
      "Ejecutando método: ml\n"
     ]
    }
   ],
   "source": [
    "methods = [\n",
    "    \"classicfft\",\n",
    "    \"phat\", \"scot\", \"roth\", \n",
    "    \"ml\"\n",
    "]\n",
    "\n",
    "results = {}  # Para guardar los ángulos por método\n",
    "\n",
    "for method in methods:\n",
    "    try:\n",
    "        print(f\"Ejecutando método: {method}\")\n",
    "        x, y = doa.full_doa_pipeline(\n",
    "            \"Mic_amount1.json\", \n",
    "            \"Audios/imp.wav\", \n",
    "            method=method, \n",
    "            variable_param=\"mic_amount\", \n",
    "            return_error=False\n",
    "        )\n",
    "\n",
    "        # Asegurarse de que x e y sean listas\n",
    "        if not isinstance(x, (list, np.ndarray)):\n",
    "            x = [x]\n",
    "        if not isinstance(y, (list, np.ndarray)):\n",
    "            y = [y]\n",
    "\n",
    "        results[method] = (x, y)\n",
    "\n",
    "    except Exception as e:\n",
    "        print(f\"Error con el método {method}: {e}\")"
   ]
  },
  {
   "cell_type": "code",
   "execution_count": 13,
   "metadata": {},
   "outputs": [
    {
     "ename": "AttributeError",
     "evalue": "module 'doascripts' has no attribute 'doa_results'",
     "output_type": "error",
     "traceback": [
      "\u001b[1;31m---------------------------------------------------------------------------\u001b[0m",
      "\u001b[1;31mAttributeError\u001b[0m                            Traceback (most recent call last)",
      "\u001b[1;32m<ipython-input-13-5229feb826d1>\u001b[0m in \u001b[0;36m<module>\u001b[1;34m\u001b[0m\n\u001b[1;32m----> 1\u001b[1;33m \u001b[0mprint\u001b[0m\u001b[1;33m(\u001b[0m\u001b[1;34mf\"[DEBUG] Se estimaron {len(doa.doa_results)} DOAs\"\u001b[0m\u001b[1;33m)\u001b[0m\u001b[1;33m\u001b[0m\u001b[1;33m\u001b[0m\u001b[0m\n\u001b[0m\u001b[0;32m      2\u001b[0m \u001b[0mprint\u001b[0m\u001b[1;33m(\u001b[0m\u001b[1;34mf\"[DEBUG] Param values: {valid_param_values}\"\u001b[0m\u001b[1;33m)\u001b[0m\u001b[1;33m\u001b[0m\u001b[1;33m\u001b[0m\u001b[0m\n",
      "\u001b[1;31mAttributeError\u001b[0m: module 'doascripts' has no attribute 'doa_results'"
     ]
    }
   ],
   "source": []
  },
  {
   "cell_type": "code",
   "execution_count": 15,
   "metadata": {},
   "outputs": [
    {
     "data": {
      "image/png": "[encoded data removed]",
      "text/plain": [
       "<Figure size 720x432 with 1 Axes>"
      ]
     },
     "metadata": {
      "needs_background": "light"
     },
     "output_type": "display_data"
    }
   ],
   "source": [
    "plt.figure(figsize=(10, 6))\n",
    "\n",
    "for method, (x_vals, doa_vals) in results.items():\n",
    "    plt.plot(x_vals, doa_vals, label=method)\n",
    "\n",
    "plt.xlabel(\"Cantidad de microfonos\")\n",
    "plt.ylabel(\"Ángulo estimado de llegada (°)\")\n",
    "plt.title(\"Comparación de DOA estimado por método\")\n",
    "plt.grid(True)\n",
    "plt.legend()\n",
    "plt.tight_layout()\n",
    "plt.show()"
   ]
  },
  {
   "cell_type": "markdown",
   "metadata": {},
   "source": [
    "BOXPLOT"
   ]
  },
  {
   "cell_type": "code",
   "execution_count": null,
   "metadata": {},
   "outputs": [],
   "source": [
    "# Señal a usar (solo impulso)\n",
    "signal_file = \"imp.wav\"\n",
    "signal_label = \"Impulso\"\n",
    "\n",
    "# Métodos a usar\n",
    "methods = [\n",
    "    \"classicfft\",\n",
    "    \"phat\", \"scot\", \"roth\", \n",
    "    \"ml\"\n",
    "]\n",
    "\n",
    "# Diccionario para guardar resultados\n",
    "results = {}\n",
    "\n",
    "# Recolectar errores\n",
    "all_errors = []\n",
    "for method in methods:\n",
    "    print(f\"Procesando: {signal_label} - {method}\")\n",
    "    try:\n",
    "        x, y = doa.full_doa_pipeline(\n",
    "            \"Mic_amount1.json\", \n",
    "            f\"Audios/{signal_file}\",\n",
    "            method=method,\n",
    "            variable_param=\"mic_amount\",\n",
    "            return_error=True\n",
    "        )\n",
    "        all_errors.append(y)  # y es la lista de errores individuales\n",
    "    except Exception as e:\n",
    "        print(f\"Error con {signal_label} - {method}: {e}\")\n",
    "        all_errors.append([np.nan])\n",
    "\n",
    "results[signal_label] = all_errors\n"
   ]
  },
  {
   "cell_type": "code",
   "execution_count": null,
   "metadata": {},
   "outputs": [],
   "source": [
    "# Graficar boxplot\n",
    "\n",
    "plt.figure(figsize=(12, 6))\n",
    "\n",
    "data = results[signal_label]\n",
    "positions = np.arange(len(methods))\n",
    "colors = ['#1f77b4', '#ff7f0e', '#2ca02c', '#d62728', '#9467bd']\n",
    "method_patches = []\n",
    "\n",
    "# Crear boxplot\n",
    "box = plt.boxplot(data, positions=positions, widths=0.5, patch_artist=True, showfliers=True)\n",
    "\n",
    "# Colorear cada método distinto\n",
    "for patch, color in zip(box['boxes'], colors):\n",
    "    patch.set_facecolor(color)\n",
    "\n",
    "# Leyenda\n",
    "for i, method in enumerate(methods):\n",
    "    method_patches.append(mpatches.Patch(color=colors[i], label=method))\n",
    "\n",
    "plt.xticks(positions, methods, rotation=0)\n",
    "plt.xlabel(\"Método GCC\")\n",
    "plt.ylabel(\"Error absoluto del DOA (°)\")\n",
    "plt.title(\"Distribución de errores por método (Señal: Impulso)\")\n",
    "plt.grid(True, axis='y', linestyle='--', alpha=0.5)\n",
    "plt.legend(handles=method_patches, title=\"Método\", bbox_to_anchor=(1.02, 1), loc='upper left')\n",
    "plt.tight_layout()\n",
    "plt.savefig(\"Boxplot_mic_amount.png\", dpi=300, bbox_inches='tight')\n",
    "plt.show()"
   ]
  },
  {
   "cell_type": "markdown",
   "metadata": {},
   "source": [
    "# Elevacion de fuente"
   ]
  },
  {
   "cell_type": "code",
   "execution_count": null,
   "metadata": {},
   "outputs": [],
   "source": [
    "sim.expand_param(Mic_Pos_1, \"source_pos\", [(0,0,0),(0,0,5)], n=50,  filename = \"Source_Pos1\")"
   ]
  },
  {
   "cell_type": "code",
   "execution_count": null,
   "metadata": {},
   "outputs": [],
   "source": [
    "resultspos = {}  # Para guardar los ángulos por método\n",
    "\n",
    "for method in methods:\n",
    "    try:\n",
    "        print(f\"Ejecutando método: {method}\")\n",
    "        x, y = doa.full_doa_pipeline(\n",
    "            \"Source_Pos1.json\", \n",
    "            \"Audios/imp.wav\", \n",
    "            method=method, \n",
    "            variable_param=\"source_pos\", \n",
    "            return_error=False\n",
    "        )\n",
    "\n",
    "        # Asegurarse de que x e y sean listas\n",
    "        if not isinstance(x, (list, np.ndarray)):\n",
    "            x = [x]\n",
    "        if not isinstance(y, (list, np.ndarray)):\n",
    "            y = [y]\n",
    "\n",
    "        resultspos[method] = (x, y)\n",
    "\n",
    "    except Exception as e:\n",
    "        print(f\"Error con el método {method}: {e}\")"
   ]
  },
  {
   "cell_type": "code",
   "execution_count": null,
   "metadata": {},
   "outputs": [],
   "source": [
    "plt.figure(figsize=(10, 6))\n",
    "\n",
    "for method, (x_vals, doa_vals) in results.items():\n",
    "    plt.plot(x_vals, doa_vals, label=method)\n",
    "\n",
    "plt.xlabel(\"Elevación de fuente\")\n",
    "plt.ylabel(\"Ángulo estimado de llegada (°)\")\n",
    "plt.title(\"Comparación de DOA estimado por método\")\n",
    "plt.grid(True)\n",
    "plt.legend()\n",
    "plt.tight_layout()\n",
    "plt.show()"
   ]
  },
  {
   "cell_type": "markdown",
   "metadata": {},
   "source": [
    "BOXPLOT"
   ]
  },
  {
   "cell_type": "code",
   "execution_count": null,
   "metadata": {},
   "outputs": [],
   "source": [
    "# Señal a usar (solo impulso)\n",
    "signal_file = \"imp.wav\"\n",
    "signal_label = \"Impulso\"\n",
    "\n",
    "# Métodos a usar\n",
    "methods = [\n",
    "    \"classicfft\",\n",
    "    \"phat\", \"scot\", \"roth\", \n",
    "    \"ml\"\n",
    "]\n",
    "\n",
    "# Diccionario para guardar resultados\n",
    "results = {}\n",
    "\n",
    "# Recolectar errores\n",
    "all_errors = []\n",
    "for method in methods:\n",
    "    print(f\"Procesando: {signal_label} - {method}\")\n",
    "    try:\n",
    "        x, y = doa.full_doa_pipeline(\n",
    "            \"Source_Pos1.json\", \n",
    "            f\"Audios/{signal_file}\",\n",
    "            method=method,\n",
    "            variable_param=\"source_pos\",\n",
    "            return_error=True\n",
    "        )\n",
    "        all_errors.append(y)  # y es la lista de errores individuales\n",
    "    except Exception as e:\n",
    "        print(f\"Error con {signal_label} - {method}: {e}\")\n",
    "        all_errors.append([np.nan])\n",
    "\n",
    "results[signal_label] = all_errors\n"
   ]
  },
  {
   "cell_type": "code",
   "execution_count": null,
   "metadata": {},
   "outputs": [],
   "source": [
    "# Graficar boxplot\n",
    "\n",
    "plt.figure(figsize=(12, 6))\n",
    "\n",
    "data = results[signal_label]\n",
    "positions = np.arange(len(methods))\n",
    "colors = ['#1f77b4', '#ff7f0e', '#2ca02c', '#d62728', '#9467bd']\n",
    "method_patches = []\n",
    "\n",
    "# Crear boxplot\n",
    "box = plt.boxplot(data, positions=positions, widths=0.5, patch_artist=True, showfliers=True)\n",
    "\n",
    "# Colorear cada método distinto\n",
    "for patch, color in zip(box['boxes'], colors):\n",
    "    patch.set_facecolor(color)\n",
    "\n",
    "# Leyenda\n",
    "for i, method in enumerate(methods):\n",
    "    method_patches.append(mpatches.Patch(color=colors[i], label=method))\n",
    "\n",
    "plt.xticks(positions, methods, rotation=0)\n",
    "plt.xlabel(\"Método GCC\")\n",
    "plt.ylabel(\"Error absoluto del DOA (°)\")\n",
    "plt.title(\"Distribución de errores por método (Señal: Impulso)\")\n",
    "plt.grid(True, axis='y', linestyle='--', alpha=0.5)\n",
    "plt.legend(handles=method_patches, title=\"Método\", bbox_to_anchor=(1.02, 1), loc='upper left')\n",
    "plt.tight_layout()\n",
    "plt.savefig(\"Source_pos_1.png\", dpi=300, bbox_inches='tight')\n",
    "plt.show()"
   ]
  }
 ],
 "metadata": {
  "kernelspec": {
   "display_name": "Python 3",
   "language": "python",
   "name": "python3"
  },
  "language_info": {
   "codemirror_mode": {
    "name": "ipython",
    "version": 3
   },
   "file_extension": ".py",
   "mimetype": "text/x-python",
   "name": "python",
   "nbconvert_exporter": "python",
   "pygments_lexer": "ipython3",
   "version": "3.8.5"
  }
 },
 "nbformat": 4,
 "nbformat_minor": 4
}
